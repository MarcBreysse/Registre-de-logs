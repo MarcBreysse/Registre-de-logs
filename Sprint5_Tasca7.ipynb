{
 "cells": [
  {
   "cell_type": "markdown",
   "metadata": {},
   "source": [
    "\n",
    "<div class=\"alert alert-block alert-info\"><font size=\"5\"><center><b><u>Tasca 7 : Transformació Registre Log amb Regular expressions</u></b></center></font>\n",
    "\\begin{align*}Marc\\:Breysse\\end{align*}"
   ]
  },
  {
   "cell_type": "markdown",
   "metadata": {},
   "source": [
    "<span style=color:blue>*L'anàlisi de registres és una funció important per al control i l'alerta, el compliment de les polítiques de seguretat, l'auditoria i el compliment normatiu, la resposta a incidents de seguretat i fins i tot les investigacions forenses. En analitzar les dades de registre, les empreses poden identificar més fàcilment les possibles amenaces i altres problemes, trobar la causa arrel i iniciar una resposta ràpida per mitigar els riscos*.</span>"
   ]
  },
  {
   "cell_type": "markdown",
   "metadata": {},
   "source": [
    "# <span style=color:darkblue>Nivell 1</span>"
   ]
  },
  {
   "cell_type": "markdown",
   "metadata": {},
   "source": [
    "<span style=color:blue>*L'analista ha d'assegurar-se que els registres consisteixen en una gamma completa de missatges i s'interpreten segons el context. Els elements de registre han de normalitzar-se, utilitzant els mateixos termes o terminologia, per evitar confusions i proporcionar cohesió. Com Científic de Dades se t'ha proporcionat accés als registres-Logs on queda registrada l'activitat de totes les visites a realitzades a la pàgina web de l'agència de viatges \"akumenius.com\".*.</span>"
   ]
  },
  {
   "cell_type": "markdown",
   "metadata": {},
   "source": [
    "### <span style=color:green> Al final del notebook, está un metodo REGEX para extraer columnas de una. Sin embargo, aqui está una mezcla de split y extract con Regex </span>"
   ]
  },
  {
   "cell_type": "markdown",
   "metadata": {},
   "source": [
    "#### <span style=color:green><ins>Ficheros log: Información que suele tener un archivo Log</ins></span>\n",
    "    Ficheros log: Toda la información de registro en un archivo\n",
    "    https://www.ionos.es/digitalguide/online-marketing/analisis-web/el-log-el-archivo-de-registro-de-procesos-informaticos/"
   ]
  },
  {
   "cell_type": "markdown",
   "metadata": {},
   "source": [
    "<u style=color:blue>Exercici 1:</u>\n",
    "\n",
    "<span style=color:blue>Normalitza, identifica i enumera cada un dels atributs / variables de l'estructura de l'arxiu \"Web_access_log-akumenius.com\" que trobaràs al repositori de GitHub \"Data-sources\".</span>"
   ]
  },
  {
   "cell_type": "code",
   "execution_count": 1,
   "metadata": {},
   "outputs": [],
   "source": [
    "import pandas as pd\n",
    "import numpy as np\n",
    "import matplotlib.pyplot as plt\n",
    "import warnings\n",
    "import re"
   ]
  },
  {
   "cell_type": "markdown",
   "metadata": {},
   "source": [
    " ### 1. IMPORT CSV"
   ]
  },
  {
   "cell_type": "code",
   "execution_count": 2,
   "metadata": {},
   "outputs": [],
   "source": [
    "#pd.read_csv('Web_access_log-akumenius.com.txt', sep='delimiter', header=None, engine='python')\n",
    "\n",
    "WebLogAk = pd.read_csv('Web_access_log-akumenius.com.txt', header=None, sep='\\t', encoding='utf-8')"
   ]
  },
  {
   "cell_type": "code",
   "execution_count": 3,
   "metadata": {},
   "outputs": [
    {
     "data": {
      "text/plain": [
       "(261873, 1)"
      ]
     },
     "execution_count": 3,
     "metadata": {},
     "output_type": "execute_result"
    }
   ],
   "source": [
    "WebLogAk.shape"
   ]
  },
  {
   "cell_type": "code",
   "execution_count": 4,
   "metadata": {},
   "outputs": [
    {
     "data": {
      "text/plain": [
       "Int64Index([0], dtype='int64')"
      ]
     },
     "execution_count": 4,
     "metadata": {},
     "output_type": "execute_result"
    }
   ],
   "source": [
    "WebLogAk.columns"
   ]
  },
  {
   "cell_type": "code",
   "execution_count": 5,
   "metadata": {},
   "outputs": [
    {
     "data": {
      "text/html": [
       "<div>\n",
       "<style scoped>\n",
       "    .dataframe tbody tr th:only-of-type {\n",
       "        vertical-align: middle;\n",
       "    }\n",
       "\n",
       "    .dataframe tbody tr th {\n",
       "        vertical-align: top;\n",
       "    }\n",
       "\n",
       "    .dataframe thead th {\n",
       "        text-align: right;\n",
       "    }\n",
       "</style>\n",
       "<table border=\"1\" class=\"dataframe\">\n",
       "  <thead>\n",
       "    <tr style=\"text-align: right;\">\n",
       "      <th></th>\n",
       "      <th>0</th>\n",
       "    </tr>\n",
       "  </thead>\n",
       "  <tbody>\n",
       "    <tr>\n",
       "      <th>0</th>\n",
       "      <td>localhost 127.0.0.1 - - [23/Feb/2014:03:10:31 ...</td>\n",
       "    </tr>\n",
       "    <tr>\n",
       "      <th>1</th>\n",
       "      <td>localhost 127.0.0.1 - - [23/Feb/2014:03:10:31 ...</td>\n",
       "    </tr>\n",
       "    <tr>\n",
       "      <th>2</th>\n",
       "      <td>localhost 127.0.0.1 - - [23/Feb/2014:03:10:31 ...</td>\n",
       "    </tr>\n",
       "    <tr>\n",
       "      <th>3</th>\n",
       "      <td>localhost 127.0.0.1 - - [23/Feb/2014:03:10:31 ...</td>\n",
       "    </tr>\n",
       "    <tr>\n",
       "      <th>4</th>\n",
       "      <td>localhost 127.0.0.1 - - [23/Feb/2014:03:10:31 ...</td>\n",
       "    </tr>\n",
       "  </tbody>\n",
       "</table>\n",
       "</div>"
      ],
      "text/plain": [
       "                                                   0\n",
       "0  localhost 127.0.0.1 - - [23/Feb/2014:03:10:31 ...\n",
       "1  localhost 127.0.0.1 - - [23/Feb/2014:03:10:31 ...\n",
       "2  localhost 127.0.0.1 - - [23/Feb/2014:03:10:31 ...\n",
       "3  localhost 127.0.0.1 - - [23/Feb/2014:03:10:31 ...\n",
       "4  localhost 127.0.0.1 - - [23/Feb/2014:03:10:31 ..."
      ]
     },
     "execution_count": 5,
     "metadata": {},
     "output_type": "execute_result"
    }
   ],
   "source": [
    "WebLogAk.head()"
   ]
  },
  {
   "cell_type": "code",
   "execution_count": 6,
   "metadata": {},
   "outputs": [
    {
     "name": "stdout",
     "output_type": "stream",
     "text": [
      "<class 'pandas.core.frame.DataFrame'>\n",
      "RangeIndex: 261873 entries, 0 to 261872\n",
      "Data columns (total 1 columns):\n",
      " #   Column  Non-Null Count   Dtype \n",
      "---  ------  --------------   ----- \n",
      " 0   0       261873 non-null  object\n",
      "dtypes: object(1)\n",
      "memory usage: 2.0+ MB\n"
     ]
    }
   ],
   "source": [
    "WebLogAk.info() "
   ]
  },
  {
   "cell_type": "markdown",
   "metadata": {},
   "source": [
    " ### 2. ELIMINATE DUPLICATED ROWS: 4563 de 261873\n",
    "https://serverfault.com/questions/187588/stop-apache-from-writing-duplicate-log-entries-into-access-log puede ser un tema de configuración del servidor. Entiendo que es buena idea borrarlos."
   ]
  },
  {
   "cell_type": "code",
   "execution_count": 7,
   "metadata": {},
   "outputs": [
    {
     "data": {
      "text/plain": [
       "257310"
      ]
     },
     "execution_count": 7,
     "metadata": {},
     "output_type": "execute_result"
    }
   ],
   "source": [
    "len(WebLogAk.drop_duplicates())"
   ]
  },
  {
   "cell_type": "code",
   "execution_count": 8,
   "metadata": {},
   "outputs": [
    {
     "data": {
      "text/plain": [
       "(257310, 1)"
      ]
     },
     "execution_count": 8,
     "metadata": {},
     "output_type": "execute_result"
    }
   ],
   "source": [
    "WebLogAk.drop_duplicates(keep=\"last\",inplace=True) \n",
    "WebLogAk.shape\n",
    "# Cuidado: \" WebLogAk.drop_duplicates(keep=False,inplace=True) \" will exclude all duplicated values w/o keeping al least 1. "
   ]
  },
  {
   "cell_type": "code",
   "execution_count": 9,
   "metadata": {},
   "outputs": [
    {
     "data": {
      "text/html": [
       "<div>\n",
       "<style scoped>\n",
       "    .dataframe tbody tr th:only-of-type {\n",
       "        vertical-align: middle;\n",
       "    }\n",
       "\n",
       "    .dataframe tbody tr th {\n",
       "        vertical-align: top;\n",
       "    }\n",
       "\n",
       "    .dataframe thead th {\n",
       "        text-align: right;\n",
       "    }\n",
       "</style>\n",
       "<table border=\"1\" class=\"dataframe\">\n",
       "  <thead>\n",
       "    <tr style=\"text-align: right;\">\n",
       "      <th></th>\n",
       "      <th>0</th>\n",
       "    </tr>\n",
       "  </thead>\n",
       "  <tbody>\n",
       "    <tr>\n",
       "      <th>21</th>\n",
       "      <td>localhost 127.0.0.1 - - [23/Feb/2014:03:10:31 ...</td>\n",
       "    </tr>\n",
       "    <tr>\n",
       "      <th>22</th>\n",
       "      <td>www.akumenius.com 66.249.76.216 - - [23/Feb/20...</td>\n",
       "    </tr>\n",
       "    <tr>\n",
       "      <th>23</th>\n",
       "      <td>www.akumenius.com 66.249.76.216 - - [23/Feb/20...</td>\n",
       "    </tr>\n",
       "    <tr>\n",
       "      <th>24</th>\n",
       "      <td>www.akumenius.com 66.249.76.216 - - [23/Feb/20...</td>\n",
       "    </tr>\n",
       "    <tr>\n",
       "      <th>25</th>\n",
       "      <td>www.akumenius.com 66.249.76.216 - - [23/Feb/20...</td>\n",
       "    </tr>\n",
       "  </tbody>\n",
       "</table>\n",
       "</div>"
      ],
      "text/plain": [
       "                                                    0\n",
       "21  localhost 127.0.0.1 - - [23/Feb/2014:03:10:31 ...\n",
       "22  www.akumenius.com 66.249.76.216 - - [23/Feb/20...\n",
       "23  www.akumenius.com 66.249.76.216 - - [23/Feb/20...\n",
       "24  www.akumenius.com 66.249.76.216 - - [23/Feb/20...\n",
       "25  www.akumenius.com 66.249.76.216 - - [23/Feb/20..."
      ]
     },
     "execution_count": 9,
     "metadata": {},
     "output_type": "execute_result"
    }
   ],
   "source": [
    "WebLogAk.head(5)"
   ]
  },
  {
   "cell_type": "markdown",
   "metadata": {},
   "source": [
    " ### 3. SPLIT UNIQUE COLUMN THROUGH CARACTER \" TO GET ALL COLUMNS "
   ]
  },
  {
   "cell_type": "code",
   "execution_count": 10,
   "metadata": {},
   "outputs": [
    {
     "data": {
      "text/plain": [
       "(257310, 9)"
      ]
     },
     "execution_count": 10,
     "metadata": {},
     "output_type": "execute_result"
    }
   ],
   "source": [
    "WebLogAk = WebLogAk[0].str.split(\"\\\"\",expand=True,)\n",
    "WebLogAk.shape"
   ]
  },
  {
   "cell_type": "code",
   "execution_count": 11,
   "metadata": {},
   "outputs": [
    {
     "data": {
      "text/html": [
       "<div>\n",
       "<style scoped>\n",
       "    .dataframe tbody tr th:only-of-type {\n",
       "        vertical-align: middle;\n",
       "    }\n",
       "\n",
       "    .dataframe tbody tr th {\n",
       "        vertical-align: top;\n",
       "    }\n",
       "\n",
       "    .dataframe thead th {\n",
       "        text-align: right;\n",
       "    }\n",
       "</style>\n",
       "<table border=\"1\" class=\"dataframe\">\n",
       "  <thead>\n",
       "    <tr style=\"text-align: right;\">\n",
       "      <th></th>\n",
       "      <th>0</th>\n",
       "      <th>1</th>\n",
       "      <th>2</th>\n",
       "      <th>3</th>\n",
       "      <th>4</th>\n",
       "      <th>5</th>\n",
       "      <th>6</th>\n",
       "      <th>7</th>\n",
       "      <th>8</th>\n",
       "    </tr>\n",
       "  </thead>\n",
       "  <tbody>\n",
       "    <tr>\n",
       "      <th>21</th>\n",
       "      <td>localhost 127.0.0.1 - - [23/Feb/2014:03:10:31 ...</td>\n",
       "      <td>OPTIONS * HTTP/1.0</td>\n",
       "      <td>200 -</td>\n",
       "      <td>-</td>\n",
       "      <td></td>\n",
       "      <td>Apache (internal dummy connection)</td>\n",
       "      <td>VLOG=-</td>\n",
       "      <td>None</td>\n",
       "      <td>None</td>\n",
       "    </tr>\n",
       "    <tr>\n",
       "      <th>22</th>\n",
       "      <td>www.akumenius.com 66.249.76.216 - - [23/Feb/20...</td>\n",
       "      <td>GET /hoteles-baratos/ofertas-hotel-Club-&amp;-Hote...</td>\n",
       "      <td>404 3100</td>\n",
       "      <td>-</td>\n",
       "      <td></td>\n",
       "      <td>Mozilla/5.0 (compatible; Googlebot/2.1; +http:...</td>\n",
       "      <td>VLOG=-</td>\n",
       "      <td>None</td>\n",
       "      <td>None</td>\n",
       "    </tr>\n",
       "    <tr>\n",
       "      <th>23</th>\n",
       "      <td>www.akumenius.com 66.249.76.216 - - [23/Feb/20...</td>\n",
       "      <td>GET /hoteles-baratos/ofertas-hotel-Metropolis-...</td>\n",
       "      <td>404 3100</td>\n",
       "      <td>-</td>\n",
       "      <td></td>\n",
       "      <td>Mozilla/5.0 (compatible; Googlebot/2.1; +http:...</td>\n",
       "      <td>VLOG=-</td>\n",
       "      <td>None</td>\n",
       "      <td>None</td>\n",
       "    </tr>\n",
       "  </tbody>\n",
       "</table>\n",
       "</div>"
      ],
      "text/plain": [
       "                                                    0  \\\n",
       "21  localhost 127.0.0.1 - - [23/Feb/2014:03:10:31 ...   \n",
       "22  www.akumenius.com 66.249.76.216 - - [23/Feb/20...   \n",
       "23  www.akumenius.com 66.249.76.216 - - [23/Feb/20...   \n",
       "\n",
       "                                                    1           2  3  4  \\\n",
       "21                                 OPTIONS * HTTP/1.0      200 -   -      \n",
       "22  GET /hoteles-baratos/ofertas-hotel-Club-&-Hote...   404 3100   -      \n",
       "23  GET /hoteles-baratos/ofertas-hotel-Metropolis-...   404 3100   -      \n",
       "\n",
       "                                                    5        6     7     8  \n",
       "21                 Apache (internal dummy connection)   VLOG=-  None  None  \n",
       "22  Mozilla/5.0 (compatible; Googlebot/2.1; +http:...   VLOG=-  None  None  \n",
       "23  Mozilla/5.0 (compatible; Googlebot/2.1; +http:...   VLOG=-  None  None  "
      ]
     },
     "execution_count": 11,
     "metadata": {},
     "output_type": "execute_result"
    }
   ],
   "source": [
    "WebLogAk.head(3)"
   ]
  },
  {
   "cell_type": "markdown",
   "metadata": {},
   "source": [
    " ### 4. CREATE COLUMN 'Akumenius_Web' & 'Ip' con SPLIT & separador 'space'"
   ]
  },
  {
   "cell_type": "markdown",
   "metadata": {},
   "source": [
    "### <span style=color:blue><ins>Ojo que 0 es el index de la columna 0...sin comas </ins></span>"
   ]
  },
  {
   "cell_type": "code",
   "execution_count": 12,
   "metadata": {},
   "outputs": [
    {
     "data": {
      "text/html": [
       "<div>\n",
       "<style scoped>\n",
       "    .dataframe tbody tr th:only-of-type {\n",
       "        vertical-align: middle;\n",
       "    }\n",
       "\n",
       "    .dataframe tbody tr th {\n",
       "        vertical-align: top;\n",
       "    }\n",
       "\n",
       "    .dataframe thead th {\n",
       "        text-align: right;\n",
       "    }\n",
       "</style>\n",
       "<table border=\"1\" class=\"dataframe\">\n",
       "  <thead>\n",
       "    <tr style=\"text-align: right;\">\n",
       "      <th></th>\n",
       "      <th>0</th>\n",
       "      <th>1</th>\n",
       "      <th>2</th>\n",
       "      <th>3</th>\n",
       "      <th>4</th>\n",
       "      <th>5</th>\n",
       "      <th>6</th>\n",
       "      <th>7</th>\n",
       "      <th>8</th>\n",
       "      <th>Ak_Web</th>\n",
       "      <th>Ip</th>\n",
       "    </tr>\n",
       "  </thead>\n",
       "  <tbody>\n",
       "    <tr>\n",
       "      <th>21</th>\n",
       "      <td>localhost 127.0.0.1 - - [23/Feb/2014:03:10:31 ...</td>\n",
       "      <td>OPTIONS * HTTP/1.0</td>\n",
       "      <td>200 -</td>\n",
       "      <td>-</td>\n",
       "      <td></td>\n",
       "      <td>Apache (internal dummy connection)</td>\n",
       "      <td>VLOG=-</td>\n",
       "      <td>None</td>\n",
       "      <td>None</td>\n",
       "      <td>localhost</td>\n",
       "      <td>127.0.0.1</td>\n",
       "    </tr>\n",
       "    <tr>\n",
       "      <th>22</th>\n",
       "      <td>www.akumenius.com 66.249.76.216 - - [23/Feb/20...</td>\n",
       "      <td>GET /hoteles-baratos/ofertas-hotel-Club-&amp;-Hote...</td>\n",
       "      <td>404 3100</td>\n",
       "      <td>-</td>\n",
       "      <td></td>\n",
       "      <td>Mozilla/5.0 (compatible; Googlebot/2.1; +http:...</td>\n",
       "      <td>VLOG=-</td>\n",
       "      <td>None</td>\n",
       "      <td>None</td>\n",
       "      <td>www.akumenius.com</td>\n",
       "      <td>66.249.76.216</td>\n",
       "    </tr>\n",
       "    <tr>\n",
       "      <th>23</th>\n",
       "      <td>www.akumenius.com 66.249.76.216 - - [23/Feb/20...</td>\n",
       "      <td>GET /hoteles-baratos/ofertas-hotel-Metropolis-...</td>\n",
       "      <td>404 3100</td>\n",
       "      <td>-</td>\n",
       "      <td></td>\n",
       "      <td>Mozilla/5.0 (compatible; Googlebot/2.1; +http:...</td>\n",
       "      <td>VLOG=-</td>\n",
       "      <td>None</td>\n",
       "      <td>None</td>\n",
       "      <td>www.akumenius.com</td>\n",
       "      <td>66.249.76.216</td>\n",
       "    </tr>\n",
       "    <tr>\n",
       "      <th>24</th>\n",
       "      <td>www.akumenius.com 66.249.76.216 - - [23/Feb/20...</td>\n",
       "      <td>GET /hoteles-baratos/ofertas-hotel-Faena-Hotel...</td>\n",
       "      <td>404 3100</td>\n",
       "      <td>-</td>\n",
       "      <td></td>\n",
       "      <td>Mozilla/5.0 (compatible; Googlebot/2.1; +http:...</td>\n",
       "      <td>VLOG=-</td>\n",
       "      <td>None</td>\n",
       "      <td>None</td>\n",
       "      <td>www.akumenius.com</td>\n",
       "      <td>66.249.76.216</td>\n",
       "    </tr>\n",
       "    <tr>\n",
       "      <th>25</th>\n",
       "      <td>www.akumenius.com 66.249.76.216 - - [23/Feb/20...</td>\n",
       "      <td>GET /hoteles-baratos/ofertas-hotel-Kensington-...</td>\n",
       "      <td>404 3100</td>\n",
       "      <td>-</td>\n",
       "      <td></td>\n",
       "      <td>Mozilla/5.0 (compatible; Googlebot/2.1; +http:...</td>\n",
       "      <td>VLOG=-</td>\n",
       "      <td>None</td>\n",
       "      <td>None</td>\n",
       "      <td>www.akumenius.com</td>\n",
       "      <td>66.249.76.216</td>\n",
       "    </tr>\n",
       "  </tbody>\n",
       "</table>\n",
       "</div>"
      ],
      "text/plain": [
       "                                                    0  \\\n",
       "21  localhost 127.0.0.1 - - [23/Feb/2014:03:10:31 ...   \n",
       "22  www.akumenius.com 66.249.76.216 - - [23/Feb/20...   \n",
       "23  www.akumenius.com 66.249.76.216 - - [23/Feb/20...   \n",
       "24  www.akumenius.com 66.249.76.216 - - [23/Feb/20...   \n",
       "25  www.akumenius.com 66.249.76.216 - - [23/Feb/20...   \n",
       "\n",
       "                                                    1           2  3  4  \\\n",
       "21                                 OPTIONS * HTTP/1.0      200 -   -      \n",
       "22  GET /hoteles-baratos/ofertas-hotel-Club-&-Hote...   404 3100   -      \n",
       "23  GET /hoteles-baratos/ofertas-hotel-Metropolis-...   404 3100   -      \n",
       "24  GET /hoteles-baratos/ofertas-hotel-Faena-Hotel...   404 3100   -      \n",
       "25  GET /hoteles-baratos/ofertas-hotel-Kensington-...   404 3100   -      \n",
       "\n",
       "                                                    5        6     7     8  \\\n",
       "21                 Apache (internal dummy connection)   VLOG=-  None  None   \n",
       "22  Mozilla/5.0 (compatible; Googlebot/2.1; +http:...   VLOG=-  None  None   \n",
       "23  Mozilla/5.0 (compatible; Googlebot/2.1; +http:...   VLOG=-  None  None   \n",
       "24  Mozilla/5.0 (compatible; Googlebot/2.1; +http:...   VLOG=-  None  None   \n",
       "25  Mozilla/5.0 (compatible; Googlebot/2.1; +http:...   VLOG=-  None  None   \n",
       "\n",
       "               Ak_Web             Ip  \n",
       "21          localhost      127.0.0.1  \n",
       "22  www.akumenius.com  66.249.76.216  \n",
       "23  www.akumenius.com  66.249.76.216  \n",
       "24  www.akumenius.com  66.249.76.216  \n",
       "25  www.akumenius.com  66.249.76.216  "
      ]
     },
     "execution_count": 12,
     "metadata": {},
     "output_type": "execute_result"
    }
   ],
   "source": [
    "WebLogAk['Ak_Web'] = WebLogAk[0].str.split(' ',2).str[0]\n",
    "WebLogAk['Ip'] = WebLogAk[0].str.split(' ',2).str[1]\n",
    "#WebLogAk['Ak_Web'], WebLogAk['Ip'], WebLogAk['1'] = WebLogAk[0].str.split(' ',2).str\n",
    "WebLogAk.head(5)"
   ]
  },
  {
   "cell_type": "code",
   "execution_count": 13,
   "metadata": {},
   "outputs": [
    {
     "data": {
      "text/plain": [
       "(257310, 11)"
      ]
     },
     "execution_count": 13,
     "metadata": {},
     "output_type": "execute_result"
    }
   ],
   "source": [
    "WebLogAk.shape"
   ]
  },
  {
   "cell_type": "markdown",
   "metadata": {},
   "source": [
    " ### 5. CREATE COLUMN 'Date_Time' con EXTRACT"
   ]
  },
  {
   "cell_type": "code",
   "execution_count": 14,
   "metadata": {},
   "outputs": [
    {
     "data": {
      "text/html": [
       "<div>\n",
       "<style scoped>\n",
       "    .dataframe tbody tr th:only-of-type {\n",
       "        vertical-align: middle;\n",
       "    }\n",
       "\n",
       "    .dataframe tbody tr th {\n",
       "        vertical-align: top;\n",
       "    }\n",
       "\n",
       "    .dataframe thead th {\n",
       "        text-align: right;\n",
       "    }\n",
       "</style>\n",
       "<table border=\"1\" class=\"dataframe\">\n",
       "  <thead>\n",
       "    <tr style=\"text-align: right;\">\n",
       "      <th></th>\n",
       "      <th>0</th>\n",
       "      <th>1</th>\n",
       "      <th>2</th>\n",
       "      <th>3</th>\n",
       "      <th>4</th>\n",
       "      <th>5</th>\n",
       "      <th>6</th>\n",
       "      <th>7</th>\n",
       "      <th>8</th>\n",
       "      <th>Ak_Web</th>\n",
       "      <th>Ip</th>\n",
       "      <th>Date_Time</th>\n",
       "    </tr>\n",
       "  </thead>\n",
       "  <tbody>\n",
       "    <tr>\n",
       "      <th>21</th>\n",
       "      <td>localhost 127.0.0.1 - - [23/Feb/2014:03:10:31 ...</td>\n",
       "      <td>OPTIONS * HTTP/1.0</td>\n",
       "      <td>200 -</td>\n",
       "      <td>-</td>\n",
       "      <td></td>\n",
       "      <td>Apache (internal dummy connection)</td>\n",
       "      <td>VLOG=-</td>\n",
       "      <td>None</td>\n",
       "      <td>None</td>\n",
       "      <td>localhost</td>\n",
       "      <td>127.0.0.1</td>\n",
       "      <td>[23/Feb/2014:03:10:31 +0100]</td>\n",
       "    </tr>\n",
       "  </tbody>\n",
       "</table>\n",
       "</div>"
      ],
      "text/plain": [
       "                                                    0                   1  \\\n",
       "21  localhost 127.0.0.1 - - [23/Feb/2014:03:10:31 ...  OPTIONS * HTTP/1.0   \n",
       "\n",
       "          2  3  4                                   5        6     7     8  \\\n",
       "21   200 -   -     Apache (internal dummy connection)   VLOG=-  None  None   \n",
       "\n",
       "       Ak_Web         Ip                     Date_Time  \n",
       "21  localhost  127.0.0.1  [23/Feb/2014:03:10:31 +0100]  "
      ]
     },
     "execution_count": 14,
     "metadata": {},
     "output_type": "execute_result"
    }
   ],
   "source": [
    "WebLogAk['Date_Time'] = WebLogAk[0].str.extract(pat = '(\\[[^z]*\\])')\n",
    "WebLogAk.head(1)\n",
    "\n",
    "    #  (\" -> empieza a capturar algo que empieza por \"\n",
    "    #  [^\"] -> captura todo lo que no sea el carácter \"...en este caso con el carácter z\n",
    "    #  * -> 0 o más veces\n",
    "    #  \") -> termina de capturar algo que tiene \" como último carácter\n",
    "\n",
    "# WORKS ALSO!!\n",
    "    #WebLogAk['Date_Time'] = WebLogAk[0].str.extract(pat = '(\\[23/Feb/2014...............\\])')\n",
    "    #WebLogAk['Date_Time'] = WebLogAk[0].str.extract(pat = '(\\[23[^\"]*\\])')"
   ]
  },
  {
   "cell_type": "code",
   "execution_count": 15,
   "metadata": {},
   "outputs": [
    {
     "name": "stdout",
     "output_type": "stream",
     "text": [
      "[23/Feb/2014:03:11:03 +0100]\n"
     ]
    }
   ],
   "source": [
    "val = WebLogAk['Date_Time'].values[21]             #To get dataframe cell value with row index and column name\n",
    "print(val)"
   ]
  },
  {
   "cell_type": "markdown",
   "metadata": {},
   "source": [
    " ### <span style=color:green><ins> To remove corchetes</ins></span>"
   ]
  },
  {
   "cell_type": "code",
   "execution_count": 16,
   "metadata": {},
   "outputs": [
    {
     "data": {
      "text/html": [
       "<div>\n",
       "<style scoped>\n",
       "    .dataframe tbody tr th:only-of-type {\n",
       "        vertical-align: middle;\n",
       "    }\n",
       "\n",
       "    .dataframe tbody tr th {\n",
       "        vertical-align: top;\n",
       "    }\n",
       "\n",
       "    .dataframe thead th {\n",
       "        text-align: right;\n",
       "    }\n",
       "</style>\n",
       "<table border=\"1\" class=\"dataframe\">\n",
       "  <thead>\n",
       "    <tr style=\"text-align: right;\">\n",
       "      <th></th>\n",
       "      <th>0</th>\n",
       "      <th>1</th>\n",
       "      <th>2</th>\n",
       "      <th>3</th>\n",
       "      <th>4</th>\n",
       "      <th>5</th>\n",
       "      <th>6</th>\n",
       "      <th>7</th>\n",
       "      <th>8</th>\n",
       "      <th>Ak_Web</th>\n",
       "      <th>Ip</th>\n",
       "      <th>Date_Time</th>\n",
       "    </tr>\n",
       "  </thead>\n",
       "  <tbody>\n",
       "    <tr>\n",
       "      <th>21</th>\n",
       "      <td>localhost 127.0.0.1 - - [23/Feb/2014:03:10:31 ...</td>\n",
       "      <td>OPTIONS * HTTP/1.0</td>\n",
       "      <td>200 -</td>\n",
       "      <td>-</td>\n",
       "      <td></td>\n",
       "      <td>Apache (internal dummy connection)</td>\n",
       "      <td>VLOG=-</td>\n",
       "      <td>None</td>\n",
       "      <td>None</td>\n",
       "      <td>localhost</td>\n",
       "      <td>127.0.0.1</td>\n",
       "      <td>23/Feb/2014:03:10:31 +0100</td>\n",
       "    </tr>\n",
       "  </tbody>\n",
       "</table>\n",
       "</div>"
      ],
      "text/plain": [
       "                                                    0                   1  \\\n",
       "21  localhost 127.0.0.1 - - [23/Feb/2014:03:10:31 ...  OPTIONS * HTTP/1.0   \n",
       "\n",
       "          2  3  4                                   5        6     7     8  \\\n",
       "21   200 -   -     Apache (internal dummy connection)   VLOG=-  None  None   \n",
       "\n",
       "       Ak_Web         Ip                   Date_Time  \n",
       "21  localhost  127.0.0.1  23/Feb/2014:03:10:31 +0100  "
      ]
     },
     "execution_count": 16,
     "metadata": {},
     "output_type": "execute_result"
    }
   ],
   "source": [
    "WebLogAk['Date_Time'] = WebLogAk['Date_Time'].str.replace('\\]','').str.replace('\\[','')\n",
    "WebLogAk.head(1)"
   ]
  },
  {
   "cell_type": "markdown",
   "metadata": {},
   "source": [
    "### 6. CREATE COLUMN 'REQUEST CONFIRMATION' & 'TRANSFERED DATA' FROM COLUMN '2' con SPLIT"
   ]
  },
  {
   "cell_type": "markdown",
   "metadata": {},
   "source": [
    "### <span style=color:green><ins> Confirmación de la solicitud (Código de estado HTTP) </ins></span>\n",
    "    https://www.ionos.es/digitalguide/hosting/cuestiones-tecnicas/una-mirada-a-los-codigos-de-estado-http-mas-comunes/"
   ]
  },
  {
   "cell_type": "code",
   "execution_count": 17,
   "metadata": {
    "scrolled": false
   },
   "outputs": [
    {
     "data": {
      "text/html": [
       "<div>\n",
       "<style scoped>\n",
       "    .dataframe tbody tr th:only-of-type {\n",
       "        vertical-align: middle;\n",
       "    }\n",
       "\n",
       "    .dataframe tbody tr th {\n",
       "        vertical-align: top;\n",
       "    }\n",
       "\n",
       "    .dataframe thead th {\n",
       "        text-align: right;\n",
       "    }\n",
       "</style>\n",
       "<table border=\"1\" class=\"dataframe\">\n",
       "  <thead>\n",
       "    <tr style=\"text-align: right;\">\n",
       "      <th></th>\n",
       "      <th>0</th>\n",
       "      <th>1</th>\n",
       "      <th>2</th>\n",
       "      <th>3</th>\n",
       "      <th>4</th>\n",
       "      <th>5</th>\n",
       "      <th>6</th>\n",
       "      <th>7</th>\n",
       "      <th>8</th>\n",
       "      <th>Ak_Web</th>\n",
       "      <th>Ip</th>\n",
       "      <th>Date_Time</th>\n",
       "      <th>Status</th>\n",
       "      <th>Size</th>\n",
       "    </tr>\n",
       "  </thead>\n",
       "  <tbody>\n",
       "    <tr>\n",
       "      <th>2708</th>\n",
       "      <td>www.akumenius.com 157.55.35.43 - - [23/Feb/201...</td>\n",
       "      <td>GET /hoteles-baratos/ofertas-hotel-Intercontin...</td>\n",
       "      <td>404 3100</td>\n",
       "      <td>-</td>\n",
       "      <td></td>\n",
       "      <td>Mozilla/5.0 (compatible; bingbot/2.0; +http://...</td>\n",
       "      <td>VLOG=-</td>\n",
       "      <td>None</td>\n",
       "      <td>None</td>\n",
       "      <td>www.akumenius.com</td>\n",
       "      <td>157.55.35.43</td>\n",
       "      <td>23/Feb/2014:04:10:43 +0100</td>\n",
       "      <td>404</td>\n",
       "      <td>3100</td>\n",
       "    </tr>\n",
       "    <tr>\n",
       "      <th>2709</th>\n",
       "      <td>www.akumenius.com 162.243.192.191 - - [23/Feb/...</td>\n",
       "      <td>GET /escapadas/escapada-romantica-macia-gran-v...</td>\n",
       "      <td>200 5440</td>\n",
       "      <td>http://www.akumenius.com/escapadas/granada-513...</td>\n",
       "      <td></td>\n",
       "      <td>Mozilla/5.0 (compatible; spbot/4.0.7; +http://...</td>\n",
       "      <td>VLOG=-</td>\n",
       "      <td>None</td>\n",
       "      <td>None</td>\n",
       "      <td>www.akumenius.com</td>\n",
       "      <td>162.243.192.191</td>\n",
       "      <td>23/Feb/2014:04:10:47 +0100</td>\n",
       "      <td>200</td>\n",
       "      <td>5440</td>\n",
       "    </tr>\n",
       "  </tbody>\n",
       "</table>\n",
       "</div>"
      ],
      "text/plain": [
       "                                                      0  \\\n",
       "2708  www.akumenius.com 157.55.35.43 - - [23/Feb/201...   \n",
       "2709  www.akumenius.com 162.243.192.191 - - [23/Feb/...   \n",
       "\n",
       "                                                      1           2  \\\n",
       "2708  GET /hoteles-baratos/ofertas-hotel-Intercontin...   404 3100    \n",
       "2709  GET /escapadas/escapada-romantica-macia-gran-v...   200 5440    \n",
       "\n",
       "                                                      3  4  \\\n",
       "2708                                                  -      \n",
       "2709  http://www.akumenius.com/escapadas/granada-513...      \n",
       "\n",
       "                                                      5        6     7     8  \\\n",
       "2708  Mozilla/5.0 (compatible; bingbot/2.0; +http://...   VLOG=-  None  None   \n",
       "2709  Mozilla/5.0 (compatible; spbot/4.0.7; +http://...   VLOG=-  None  None   \n",
       "\n",
       "                 Ak_Web               Ip                   Date_Time Status  \\\n",
       "2708  www.akumenius.com     157.55.35.43  23/Feb/2014:04:10:43 +0100    404   \n",
       "2709  www.akumenius.com  162.243.192.191  23/Feb/2014:04:10:47 +0100    200   \n",
       "\n",
       "       Size  \n",
       "2708  3100   \n",
       "2709  5440   "
      ]
     },
     "execution_count": 17,
     "metadata": {},
     "output_type": "execute_result"
    }
   ],
   "source": [
    "WebLogAk['Status'] = WebLogAk[2].str.split(' ',2).str[1]\n",
    "WebLogAk['Size'] = WebLogAk[2].str.split(' ',2).str[2]\n",
    "#WebLogAk.loc[[2687], :]\n",
    "WebLogAk[2687:2689]"
   ]
  },
  {
   "cell_type": "markdown",
   "metadata": {},
   "source": [
    " ### 6. REMOVE COLUMN '0' & '2'"
   ]
  },
  {
   "cell_type": "code",
   "execution_count": 18,
   "metadata": {},
   "outputs": [
    {
     "data": {
      "text/html": [
       "<div>\n",
       "<style scoped>\n",
       "    .dataframe tbody tr th:only-of-type {\n",
       "        vertical-align: middle;\n",
       "    }\n",
       "\n",
       "    .dataframe tbody tr th {\n",
       "        vertical-align: top;\n",
       "    }\n",
       "\n",
       "    .dataframe thead th {\n",
       "        text-align: right;\n",
       "    }\n",
       "</style>\n",
       "<table border=\"1\" class=\"dataframe\">\n",
       "  <thead>\n",
       "    <tr style=\"text-align: right;\">\n",
       "      <th></th>\n",
       "      <th>1</th>\n",
       "      <th>3</th>\n",
       "      <th>4</th>\n",
       "      <th>5</th>\n",
       "      <th>6</th>\n",
       "      <th>7</th>\n",
       "      <th>8</th>\n",
       "      <th>Ak_Web</th>\n",
       "      <th>Ip</th>\n",
       "      <th>Date_Time</th>\n",
       "      <th>Status</th>\n",
       "      <th>Size</th>\n",
       "    </tr>\n",
       "  </thead>\n",
       "  <tbody>\n",
       "    <tr>\n",
       "      <th>21</th>\n",
       "      <td>OPTIONS * HTTP/1.0</td>\n",
       "      <td>-</td>\n",
       "      <td></td>\n",
       "      <td>Apache (internal dummy connection)</td>\n",
       "      <td>VLOG=-</td>\n",
       "      <td>None</td>\n",
       "      <td>None</td>\n",
       "      <td>localhost</td>\n",
       "      <td>127.0.0.1</td>\n",
       "      <td>23/Feb/2014:03:10:31 +0100</td>\n",
       "      <td>200</td>\n",
       "      <td>-</td>\n",
       "    </tr>\n",
       "    <tr>\n",
       "      <th>22</th>\n",
       "      <td>GET /hoteles-baratos/ofertas-hotel-Club-&amp;-Hote...</td>\n",
       "      <td>-</td>\n",
       "      <td></td>\n",
       "      <td>Mozilla/5.0 (compatible; Googlebot/2.1; +http:...</td>\n",
       "      <td>VLOG=-</td>\n",
       "      <td>None</td>\n",
       "      <td>None</td>\n",
       "      <td>www.akumenius.com</td>\n",
       "      <td>66.249.76.216</td>\n",
       "      <td>23/Feb/2014:03:10:31 +0100</td>\n",
       "      <td>404</td>\n",
       "      <td>3100</td>\n",
       "    </tr>\n",
       "    <tr>\n",
       "      <th>23</th>\n",
       "      <td>GET /hoteles-baratos/ofertas-hotel-Metropolis-...</td>\n",
       "      <td>-</td>\n",
       "      <td></td>\n",
       "      <td>Mozilla/5.0 (compatible; Googlebot/2.1; +http:...</td>\n",
       "      <td>VLOG=-</td>\n",
       "      <td>None</td>\n",
       "      <td>None</td>\n",
       "      <td>www.akumenius.com</td>\n",
       "      <td>66.249.76.216</td>\n",
       "      <td>23/Feb/2014:03:10:33 +0100</td>\n",
       "      <td>404</td>\n",
       "      <td>3100</td>\n",
       "    </tr>\n",
       "    <tr>\n",
       "      <th>24</th>\n",
       "      <td>GET /hoteles-baratos/ofertas-hotel-Faena-Hotel...</td>\n",
       "      <td>-</td>\n",
       "      <td></td>\n",
       "      <td>Mozilla/5.0 (compatible; Googlebot/2.1; +http:...</td>\n",
       "      <td>VLOG=-</td>\n",
       "      <td>None</td>\n",
       "      <td>None</td>\n",
       "      <td>www.akumenius.com</td>\n",
       "      <td>66.249.76.216</td>\n",
       "      <td>23/Feb/2014:03:10:35 +0100</td>\n",
       "      <td>404</td>\n",
       "      <td>3100</td>\n",
       "    </tr>\n",
       "    <tr>\n",
       "      <th>25</th>\n",
       "      <td>GET /hoteles-baratos/ofertas-hotel-Kensington-...</td>\n",
       "      <td>-</td>\n",
       "      <td></td>\n",
       "      <td>Mozilla/5.0 (compatible; Googlebot/2.1; +http:...</td>\n",
       "      <td>VLOG=-</td>\n",
       "      <td>None</td>\n",
       "      <td>None</td>\n",
       "      <td>www.akumenius.com</td>\n",
       "      <td>66.249.76.216</td>\n",
       "      <td>23/Feb/2014:03:10:38 +0100</td>\n",
       "      <td>404</td>\n",
       "      <td>3100</td>\n",
       "    </tr>\n",
       "  </tbody>\n",
       "</table>\n",
       "</div>"
      ],
      "text/plain": [
       "                                                    1  3  4  \\\n",
       "21                                 OPTIONS * HTTP/1.0  -      \n",
       "22  GET /hoteles-baratos/ofertas-hotel-Club-&-Hote...  -      \n",
       "23  GET /hoteles-baratos/ofertas-hotel-Metropolis-...  -      \n",
       "24  GET /hoteles-baratos/ofertas-hotel-Faena-Hotel...  -      \n",
       "25  GET /hoteles-baratos/ofertas-hotel-Kensington-...  -      \n",
       "\n",
       "                                                    5        6     7     8  \\\n",
       "21                 Apache (internal dummy connection)   VLOG=-  None  None   \n",
       "22  Mozilla/5.0 (compatible; Googlebot/2.1; +http:...   VLOG=-  None  None   \n",
       "23  Mozilla/5.0 (compatible; Googlebot/2.1; +http:...   VLOG=-  None  None   \n",
       "24  Mozilla/5.0 (compatible; Googlebot/2.1; +http:...   VLOG=-  None  None   \n",
       "25  Mozilla/5.0 (compatible; Googlebot/2.1; +http:...   VLOG=-  None  None   \n",
       "\n",
       "               Ak_Web             Ip                   Date_Time Status   Size  \n",
       "21          localhost      127.0.0.1  23/Feb/2014:03:10:31 +0100    200     -   \n",
       "22  www.akumenius.com  66.249.76.216  23/Feb/2014:03:10:31 +0100    404  3100   \n",
       "23  www.akumenius.com  66.249.76.216  23/Feb/2014:03:10:33 +0100    404  3100   \n",
       "24  www.akumenius.com  66.249.76.216  23/Feb/2014:03:10:35 +0100    404  3100   \n",
       "25  www.akumenius.com  66.249.76.216  23/Feb/2014:03:10:38 +0100    404  3100   "
      ]
     },
     "execution_count": 18,
     "metadata": {},
     "output_type": "execute_result"
    }
   ],
   "source": [
    "WebLogAk.drop([0,2], axis=1, inplace=True)\n",
    "WebLogAk.head()"
   ]
  },
  {
   "cell_type": "markdown",
   "metadata": {},
   "source": [
    "### 7. REORDER COLUMNS"
   ]
  },
  {
   "cell_type": "code",
   "execution_count": 19,
   "metadata": {},
   "outputs": [
    {
     "data": {
      "text/html": [
       "<div>\n",
       "<style scoped>\n",
       "    .dataframe tbody tr th:only-of-type {\n",
       "        vertical-align: middle;\n",
       "    }\n",
       "\n",
       "    .dataframe tbody tr th {\n",
       "        vertical-align: top;\n",
       "    }\n",
       "\n",
       "    .dataframe thead th {\n",
       "        text-align: right;\n",
       "    }\n",
       "</style>\n",
       "<table border=\"1\" class=\"dataframe\">\n",
       "  <thead>\n",
       "    <tr style=\"text-align: right;\">\n",
       "      <th></th>\n",
       "      <th>Ak_Web</th>\n",
       "      <th>Ip</th>\n",
       "      <th>Date_Time</th>\n",
       "      <th>1</th>\n",
       "      <th>Status</th>\n",
       "      <th>Size</th>\n",
       "      <th>3</th>\n",
       "      <th>4</th>\n",
       "      <th>5</th>\n",
       "      <th>6</th>\n",
       "      <th>7</th>\n",
       "      <th>8</th>\n",
       "    </tr>\n",
       "  </thead>\n",
       "  <tbody>\n",
       "    <tr>\n",
       "      <th>29870</th>\n",
       "      <td>www.akumenius.com</td>\n",
       "      <td>84.79.190.7</td>\n",
       "      <td>23/Feb/2014:19:27:18 +0100</td>\n",
       "      <td>GET /libraries/jqueryui/css/ui-lightness/jquer...</td>\n",
       "      <td>200</td>\n",
       "      <td>1140</td>\n",
       "      <td>http://www.akumenius.com/hotel-list</td>\n",
       "      <td></td>\n",
       "      <td>Mozilla/5.0 (Windows NT 5.1; rv:27.0) Gecko/20...</td>\n",
       "      <td>VLOG=-</td>\n",
       "      <td>None</td>\n",
       "      <td>None</td>\n",
       "    </tr>\n",
       "  </tbody>\n",
       "</table>\n",
       "</div>"
      ],
      "text/plain": [
       "                  Ak_Web           Ip                   Date_Time  \\\n",
       "29870  www.akumenius.com  84.79.190.7  23/Feb/2014:19:27:18 +0100   \n",
       "\n",
       "                                                       1 Status   Size  \\\n",
       "29870  GET /libraries/jqueryui/css/ui-lightness/jquer...    200  1140    \n",
       "\n",
       "                                         3  4  \\\n",
       "29870  http://www.akumenius.com/hotel-list      \n",
       "\n",
       "                                                       5        6     7     8  \n",
       "29870  Mozilla/5.0 (Windows NT 5.1; rv:27.0) Gecko/20...   VLOG=-  None  None  "
      ]
     },
     "execution_count": 19,
     "metadata": {},
     "output_type": "execute_result"
    }
   ],
   "source": [
    "WebLogAk = WebLogAk[['Ak_Web', 'Ip','Date_Time',1,'Status','Size',3,4,5,6,7,8]]\n",
    "WebLogAk.loc[[29870], :]"
   ]
  },
  {
   "cell_type": "markdown",
   "metadata": {},
   "source": [
    "### 8. RENAME COLUMNS"
   ]
  },
  {
   "cell_type": "code",
   "execution_count": 20,
   "metadata": {},
   "outputs": [
    {
     "data": {
      "text/html": [
       "<div>\n",
       "<style scoped>\n",
       "    .dataframe tbody tr th:only-of-type {\n",
       "        vertical-align: middle;\n",
       "    }\n",
       "\n",
       "    .dataframe tbody tr th {\n",
       "        vertical-align: top;\n",
       "    }\n",
       "\n",
       "    .dataframe thead th {\n",
       "        text-align: right;\n",
       "    }\n",
       "</style>\n",
       "<table border=\"1\" class=\"dataframe\">\n",
       "  <thead>\n",
       "    <tr style=\"text-align: right;\">\n",
       "      <th></th>\n",
       "      <th>Ak_Web</th>\n",
       "      <th>Ip</th>\n",
       "      <th>Date_Time</th>\n",
       "      <th>Request</th>\n",
       "      <th>Status</th>\n",
       "      <th>Size</th>\n",
       "      <th>Referer</th>\n",
       "      <th>TBC1</th>\n",
       "      <th>User_Agent</th>\n",
       "      <th>VLOG</th>\n",
       "      <th>TBC2</th>\n",
       "      <th>TBC3</th>\n",
       "    </tr>\n",
       "  </thead>\n",
       "  <tbody>\n",
       "    <tr>\n",
       "      <th>192524</th>\n",
       "      <td>www.akumenius.com</td>\n",
       "      <td>195.57.124.71</td>\n",
       "      <td>27/Feb/2014:12:12:12 +0100</td>\n",
       "      <td>GET /modules/raton/views/themes/bcoos/images/b...</td>\n",
       "      <td>304</td>\n",
       "      <td>-</td>\n",
       "      <td>http://www.akumenius.com/hoteles-baratos/hotel...</td>\n",
       "      <td></td>\n",
       "      <td>Mozilla/4.0 (compatible; MSIE 8.0; Windows NT ...</td>\n",
       "      <td>VLOG=-</td>\n",
       "      <td>None</td>\n",
       "      <td>None</td>\n",
       "    </tr>\n",
       "  </tbody>\n",
       "</table>\n",
       "</div>"
      ],
      "text/plain": [
       "                   Ak_Web             Ip                   Date_Time  \\\n",
       "192524  www.akumenius.com  195.57.124.71  27/Feb/2014:12:12:12 +0100   \n",
       "\n",
       "                                                  Request Status Size  \\\n",
       "192524  GET /modules/raton/views/themes/bcoos/images/b...    304   -    \n",
       "\n",
       "                                                  Referer TBC1  \\\n",
       "192524  http://www.akumenius.com/hoteles-baratos/hotel...        \n",
       "\n",
       "                                               User_Agent     VLOG  TBC2  TBC3  \n",
       "192524  Mozilla/4.0 (compatible; MSIE 8.0; Windows NT ...   VLOG=-  None  None  "
      ]
     },
     "execution_count": 20,
     "metadata": {},
     "output_type": "execute_result"
    }
   ],
   "source": [
    "WebLogAk.columns = ['Ak_Web', 'Ip','Date_Time','Request','Status','Size','Referer','TBC1','User_Agent','VLOG','TBC2','TBC3']\n",
    "WebLogAk.loc[[192524], :]"
   ]
  },
  {
   "cell_type": "markdown",
   "metadata": {},
   "source": [
    " ### 9. CHECK CONTENT OF 'TBC1', 'TBC2', 'TBC3', "
   ]
  },
  {
   "cell_type": "code",
   "execution_count": 21,
   "metadata": {},
   "outputs": [
    {
     "data": {
      "text/plain": [
       "array([' ', ' 200 3100 '], dtype=object)"
      ]
     },
     "execution_count": 21,
     "metadata": {},
     "output_type": "execute_result"
    }
   ],
   "source": [
    "WebLogAk['TBC1'].unique()         # Buscar valores unicos"
   ]
  },
  {
   "cell_type": "code",
   "execution_count": 22,
   "metadata": {},
   "outputs": [
    {
     "data": {
      "text/plain": [
       "2"
      ]
     },
     "execution_count": 22,
     "metadata": {},
     "output_type": "execute_result"
    }
   ],
   "source": [
    "WebLogAk['TBC1'].nunique()     # number of unique values"
   ]
  },
  {
   "cell_type": "code",
   "execution_count": 23,
   "metadata": {},
   "outputs": [
    {
     "name": "stdout",
     "output_type": "stream",
     "text": [
      "2\n"
     ]
    }
   ],
   "source": [
    "WebLogAk[WebLogAk['TBC1'] == ' 200 3100 ']\n",
    "occurence_TBC1 = WebLogAk['TBC1'].value_counts()[' 200 3100 ']         # occurence of valuesin column\n",
    "print(occurence_TBC1)"
   ]
  },
  {
   "cell_type": "code",
   "execution_count": 24,
   "metadata": {},
   "outputs": [
    {
     "data": {
      "text/html": [
       "<div>\n",
       "<style scoped>\n",
       "    .dataframe tbody tr th:only-of-type {\n",
       "        vertical-align: middle;\n",
       "    }\n",
       "\n",
       "    .dataframe tbody tr th {\n",
       "        vertical-align: top;\n",
       "    }\n",
       "\n",
       "    .dataframe thead th {\n",
       "        text-align: right;\n",
       "    }\n",
       "</style>\n",
       "<table border=\"1\" class=\"dataframe\">\n",
       "  <thead>\n",
       "    <tr style=\"text-align: right;\">\n",
       "      <th></th>\n",
       "      <th>Ak_Web</th>\n",
       "      <th>Ip</th>\n",
       "      <th>Date_Time</th>\n",
       "      <th>Request</th>\n",
       "      <th>Status</th>\n",
       "      <th>Size</th>\n",
       "      <th>Referer</th>\n",
       "      <th>TBC1</th>\n",
       "      <th>User_Agent</th>\n",
       "      <th>VLOG</th>\n",
       "      <th>TBC2</th>\n",
       "      <th>TBC3</th>\n",
       "    </tr>\n",
       "  </thead>\n",
       "  <tbody>\n",
       "    <tr>\n",
       "      <th>181473</th>\n",
       "      <td>www.akumenius.com</td>\n",
       "      <td>5.10.83.41</td>\n",
       "      <td>26/Feb/2014:23:44:22 +0100</td>\n",
       "      <td>GET /escapadas/escapada-especial-san-valentin-\\</td>\n",
       "      <td>NaN</td>\n",
       "      <td>NaN</td>\n",
       "      <td>-en-playa-de-san-juan-hotel-castilla-alicante-...</td>\n",
       "      <td>200 3100</td>\n",
       "      <td>-</td>\n",
       "      <td></td>\n",
       "      <td>Mozilla/5.0 (compatible; AhrefsBot/5.0; +http:...</td>\n",
       "      <td>VLOG=-</td>\n",
       "    </tr>\n",
       "    <tr>\n",
       "      <th>236496</th>\n",
       "      <td>www.akumenius.com</td>\n",
       "      <td>5.10.83.11</td>\n",
       "      <td>28/Feb/2014:16:07:20 +0100</td>\n",
       "      <td>GET /escapadas/escapada-\\</td>\n",
       "      <td>NaN</td>\n",
       "      <td>NaN</td>\n",
       "      <td>-observatorio-avifauna-hotel-pedro-i-de-aragon...</td>\n",
       "      <td>200 3100</td>\n",
       "      <td>-</td>\n",
       "      <td></td>\n",
       "      <td>Mozilla/5.0 (compatible; AhrefsBot/5.0; +http:...</td>\n",
       "      <td>VLOG=-</td>\n",
       "    </tr>\n",
       "  </tbody>\n",
       "</table>\n",
       "</div>"
      ],
      "text/plain": [
       "                   Ak_Web          Ip                   Date_Time  \\\n",
       "181473  www.akumenius.com  5.10.83.41  26/Feb/2014:23:44:22 +0100   \n",
       "236496  www.akumenius.com  5.10.83.11  28/Feb/2014:16:07:20 +0100   \n",
       "\n",
       "                                                Request Status Size  \\\n",
       "181473  GET /escapadas/escapada-especial-san-valentin-\\    NaN  NaN   \n",
       "236496                        GET /escapadas/escapada-\\    NaN  NaN   \n",
       "\n",
       "                                                  Referer        TBC1  \\\n",
       "181473  -en-playa-de-san-juan-hotel-castilla-alicante-...   200 3100    \n",
       "236496  -observatorio-avifauna-hotel-pedro-i-de-aragon...   200 3100    \n",
       "\n",
       "       User_Agent VLOG                                               TBC2  \\\n",
       "181473          -       Mozilla/5.0 (compatible; AhrefsBot/5.0; +http:...   \n",
       "236496          -       Mozilla/5.0 (compatible; AhrefsBot/5.0; +http:...   \n",
       "\n",
       "           TBC3  \n",
       "181473   VLOG=-  \n",
       "236496   VLOG=-  "
      ]
     },
     "execution_count": 24,
     "metadata": {},
     "output_type": "execute_result"
    }
   ],
   "source": [
    "WebLogAk.loc[WebLogAk['TBC1'] == ' 200 3100 ']         # rows whose column value is equal to"
   ]
  },
  {
   "cell_type": "markdown",
   "metadata": {},
   "source": [
    " ### <span style=color:green><ins> To move data of column 181473 & 236496 to right column </ins></span>"
   ]
  },
  {
   "cell_type": "code",
   "execution_count": 25,
   "metadata": {},
   "outputs": [
    {
     "data": {
      "text/html": [
       "<div>\n",
       "<style scoped>\n",
       "    .dataframe tbody tr th:only-of-type {\n",
       "        vertical-align: middle;\n",
       "    }\n",
       "\n",
       "    .dataframe tbody tr th {\n",
       "        vertical-align: top;\n",
       "    }\n",
       "\n",
       "    .dataframe thead th {\n",
       "        text-align: right;\n",
       "    }\n",
       "</style>\n",
       "<table border=\"1\" class=\"dataframe\">\n",
       "  <thead>\n",
       "    <tr style=\"text-align: right;\">\n",
       "      <th></th>\n",
       "      <th>Ak_Web</th>\n",
       "      <th>Ip</th>\n",
       "      <th>Date_Time</th>\n",
       "      <th>Request</th>\n",
       "      <th>Status</th>\n",
       "      <th>Size</th>\n",
       "      <th>Referer</th>\n",
       "      <th>TBC1</th>\n",
       "      <th>User_Agent</th>\n",
       "      <th>VLOG</th>\n",
       "      <th>TBC2</th>\n",
       "      <th>TBC3</th>\n",
       "    </tr>\n",
       "  </thead>\n",
       "  <tbody>\n",
       "    <tr>\n",
       "      <th>181473</th>\n",
       "      <td>www.akumenius.com</td>\n",
       "      <td>5.10.83.41</td>\n",
       "      <td>26/Feb/2014:23:44:22 +0100</td>\n",
       "      <td>GET /escapadas/escapada-especial-san-valentin-\\</td>\n",
       "      <td>200</td>\n",
       "      <td>3100</td>\n",
       "      <td>-en-playa-de-san-juan-hotel-castilla-alicante-...</td>\n",
       "      <td>200 3100</td>\n",
       "      <td>-</td>\n",
       "      <td></td>\n",
       "      <td>Mozilla/5.0 (compatible; AhrefsBot/5.0; +http:...</td>\n",
       "      <td>VLOG=-</td>\n",
       "    </tr>\n",
       "    <tr>\n",
       "      <th>236496</th>\n",
       "      <td>www.akumenius.com</td>\n",
       "      <td>5.10.83.11</td>\n",
       "      <td>28/Feb/2014:16:07:20 +0100</td>\n",
       "      <td>GET /escapadas/escapada-\\</td>\n",
       "      <td>200</td>\n",
       "      <td>3100</td>\n",
       "      <td>-observatorio-avifauna-hotel-pedro-i-de-aragon...</td>\n",
       "      <td>200 3100</td>\n",
       "      <td>-</td>\n",
       "      <td></td>\n",
       "      <td>Mozilla/5.0 (compatible; AhrefsBot/5.0; +http:...</td>\n",
       "      <td>VLOG=-</td>\n",
       "    </tr>\n",
       "  </tbody>\n",
       "</table>\n",
       "</div>"
      ],
      "text/plain": [
       "                   Ak_Web          Ip                   Date_Time  \\\n",
       "181473  www.akumenius.com  5.10.83.41  26/Feb/2014:23:44:22 +0100   \n",
       "236496  www.akumenius.com  5.10.83.11  28/Feb/2014:16:07:20 +0100   \n",
       "\n",
       "                                                Request Status  Size  \\\n",
       "181473  GET /escapadas/escapada-especial-san-valentin-\\    200  3100   \n",
       "236496                        GET /escapadas/escapada-\\    200  3100   \n",
       "\n",
       "                                                  Referer        TBC1  \\\n",
       "181473  -en-playa-de-san-juan-hotel-castilla-alicante-...   200 3100    \n",
       "236496  -observatorio-avifauna-hotel-pedro-i-de-aragon...   200 3100    \n",
       "\n",
       "       User_Agent VLOG                                               TBC2  \\\n",
       "181473          -       Mozilla/5.0 (compatible; AhrefsBot/5.0; +http:...   \n",
       "236496          -       Mozilla/5.0 (compatible; AhrefsBot/5.0; +http:...   \n",
       "\n",
       "           TBC3  \n",
       "181473   VLOG=-  \n",
       "236496   VLOG=-  "
      ]
     },
     "execution_count": 25,
     "metadata": {},
     "output_type": "execute_result"
    }
   ],
   "source": [
    "WebLogAk.loc[(181473,236496),'Status']='200'\n",
    "WebLogAk.loc[(181473,236496),'Size']='3100'\n",
    "WebLogAk.loc[[181473,236496], :]"
   ]
  },
  {
   "cell_type": "code",
   "execution_count": 26,
   "metadata": {},
   "outputs": [
    {
     "data": {
      "text/plain": [
       "array([None,\n",
       "       'Mozilla/5.0 (compatible; AhrefsBot/5.0; +http://ahrefs.com/robot/)'],\n",
       "      dtype=object)"
      ]
     },
     "execution_count": 26,
     "metadata": {},
     "output_type": "execute_result"
    }
   ],
   "source": [
    "WebLogAk['TBC2'].unique() "
   ]
  },
  {
   "cell_type": "code",
   "execution_count": 27,
   "metadata": {},
   "outputs": [
    {
     "data": {
      "text/html": [
       "<div>\n",
       "<style scoped>\n",
       "    .dataframe tbody tr th:only-of-type {\n",
       "        vertical-align: middle;\n",
       "    }\n",
       "\n",
       "    .dataframe tbody tr th {\n",
       "        vertical-align: top;\n",
       "    }\n",
       "\n",
       "    .dataframe thead th {\n",
       "        text-align: right;\n",
       "    }\n",
       "</style>\n",
       "<table border=\"1\" class=\"dataframe\">\n",
       "  <thead>\n",
       "    <tr style=\"text-align: right;\">\n",
       "      <th></th>\n",
       "      <th>Ak_Web</th>\n",
       "      <th>Ip</th>\n",
       "      <th>Date_Time</th>\n",
       "      <th>Request</th>\n",
       "      <th>Status</th>\n",
       "      <th>Size</th>\n",
       "      <th>Referer</th>\n",
       "      <th>TBC1</th>\n",
       "      <th>User_Agent</th>\n",
       "      <th>VLOG</th>\n",
       "      <th>TBC2</th>\n",
       "      <th>TBC3</th>\n",
       "    </tr>\n",
       "  </thead>\n",
       "  <tbody>\n",
       "    <tr>\n",
       "      <th>181473</th>\n",
       "      <td>www.akumenius.com</td>\n",
       "      <td>5.10.83.41</td>\n",
       "      <td>26/Feb/2014:23:44:22 +0100</td>\n",
       "      <td>GET /escapadas/escapada-especial-san-valentin-\\</td>\n",
       "      <td>200</td>\n",
       "      <td>3100</td>\n",
       "      <td>-en-playa-de-san-juan-hotel-castilla-alicante-...</td>\n",
       "      <td>200 3100</td>\n",
       "      <td>-</td>\n",
       "      <td></td>\n",
       "      <td>Mozilla/5.0 (compatible; AhrefsBot/5.0; +http:...</td>\n",
       "      <td>VLOG=-</td>\n",
       "    </tr>\n",
       "    <tr>\n",
       "      <th>236496</th>\n",
       "      <td>www.akumenius.com</td>\n",
       "      <td>5.10.83.11</td>\n",
       "      <td>28/Feb/2014:16:07:20 +0100</td>\n",
       "      <td>GET /escapadas/escapada-\\</td>\n",
       "      <td>200</td>\n",
       "      <td>3100</td>\n",
       "      <td>-observatorio-avifauna-hotel-pedro-i-de-aragon...</td>\n",
       "      <td>200 3100</td>\n",
       "      <td>-</td>\n",
       "      <td></td>\n",
       "      <td>Mozilla/5.0 (compatible; AhrefsBot/5.0; +http:...</td>\n",
       "      <td>VLOG=-</td>\n",
       "    </tr>\n",
       "  </tbody>\n",
       "</table>\n",
       "</div>"
      ],
      "text/plain": [
       "                   Ak_Web          Ip                   Date_Time  \\\n",
       "181473  www.akumenius.com  5.10.83.41  26/Feb/2014:23:44:22 +0100   \n",
       "236496  www.akumenius.com  5.10.83.11  28/Feb/2014:16:07:20 +0100   \n",
       "\n",
       "                                                Request Status  Size  \\\n",
       "181473  GET /escapadas/escapada-especial-san-valentin-\\    200  3100   \n",
       "236496                        GET /escapadas/escapada-\\    200  3100   \n",
       "\n",
       "                                                  Referer        TBC1  \\\n",
       "181473  -en-playa-de-san-juan-hotel-castilla-alicante-...   200 3100    \n",
       "236496  -observatorio-avifauna-hotel-pedro-i-de-aragon...   200 3100    \n",
       "\n",
       "       User_Agent VLOG                                               TBC2  \\\n",
       "181473          -       Mozilla/5.0 (compatible; AhrefsBot/5.0; +http:...   \n",
       "236496          -       Mozilla/5.0 (compatible; AhrefsBot/5.0; +http:...   \n",
       "\n",
       "           TBC3  \n",
       "181473   VLOG=-  \n",
       "236496   VLOG=-  "
      ]
     },
     "execution_count": 27,
     "metadata": {},
     "output_type": "execute_result"
    }
   ],
   "source": [
    "WebLogAk.loc[WebLogAk['TBC2'] == 'Mozilla/5.0 (compatible; AhrefsBot/5.0; +http://ahrefs.com/robot/)']"
   ]
  },
  {
   "cell_type": "code",
   "execution_count": 28,
   "metadata": {},
   "outputs": [
    {
     "data": {
      "text/html": [
       "<div>\n",
       "<style scoped>\n",
       "    .dataframe tbody tr th:only-of-type {\n",
       "        vertical-align: middle;\n",
       "    }\n",
       "\n",
       "    .dataframe tbody tr th {\n",
       "        vertical-align: top;\n",
       "    }\n",
       "\n",
       "    .dataframe thead th {\n",
       "        text-align: right;\n",
       "    }\n",
       "</style>\n",
       "<table border=\"1\" class=\"dataframe\">\n",
       "  <thead>\n",
       "    <tr style=\"text-align: right;\">\n",
       "      <th></th>\n",
       "      <th>Ak_Web</th>\n",
       "      <th>Ip</th>\n",
       "      <th>Date_Time</th>\n",
       "      <th>Request</th>\n",
       "      <th>Status</th>\n",
       "      <th>Size</th>\n",
       "      <th>Referer</th>\n",
       "      <th>TBC1</th>\n",
       "      <th>User_Agent</th>\n",
       "      <th>VLOG</th>\n",
       "      <th>TBC2</th>\n",
       "      <th>TBC3</th>\n",
       "    </tr>\n",
       "  </thead>\n",
       "  <tbody>\n",
       "    <tr>\n",
       "      <th>181473</th>\n",
       "      <td>www.akumenius.com</td>\n",
       "      <td>5.10.83.41</td>\n",
       "      <td>26/Feb/2014:23:44:22 +0100</td>\n",
       "      <td>GET /escapadas/escapada-especial-san-valentin-\\</td>\n",
       "      <td>200</td>\n",
       "      <td>3100</td>\n",
       "      <td>-en-playa-de-san-juan-hotel-castilla-alicante-...</td>\n",
       "      <td>200 3100</td>\n",
       "      <td>Mozilla/5.0 (compatible; AhrefsBot/5.0; +http:...</td>\n",
       "      <td></td>\n",
       "      <td>Mozilla/5.0 (compatible; AhrefsBot/5.0; +http:...</td>\n",
       "      <td>VLOG=-</td>\n",
       "    </tr>\n",
       "    <tr>\n",
       "      <th>236496</th>\n",
       "      <td>www.akumenius.com</td>\n",
       "      <td>5.10.83.11</td>\n",
       "      <td>28/Feb/2014:16:07:20 +0100</td>\n",
       "      <td>GET /escapadas/escapada-\\</td>\n",
       "      <td>200</td>\n",
       "      <td>3100</td>\n",
       "      <td>-observatorio-avifauna-hotel-pedro-i-de-aragon...</td>\n",
       "      <td>200 3100</td>\n",
       "      <td>Mozilla/5.0 (compatible; AhrefsBot/5.0; +http:...</td>\n",
       "      <td></td>\n",
       "      <td>Mozilla/5.0 (compatible; AhrefsBot/5.0; +http:...</td>\n",
       "      <td>VLOG=-</td>\n",
       "    </tr>\n",
       "  </tbody>\n",
       "</table>\n",
       "</div>"
      ],
      "text/plain": [
       "                   Ak_Web          Ip                   Date_Time  \\\n",
       "181473  www.akumenius.com  5.10.83.41  26/Feb/2014:23:44:22 +0100   \n",
       "236496  www.akumenius.com  5.10.83.11  28/Feb/2014:16:07:20 +0100   \n",
       "\n",
       "                                                Request Status  Size  \\\n",
       "181473  GET /escapadas/escapada-especial-san-valentin-\\    200  3100   \n",
       "236496                        GET /escapadas/escapada-\\    200  3100   \n",
       "\n",
       "                                                  Referer        TBC1  \\\n",
       "181473  -en-playa-de-san-juan-hotel-castilla-alicante-...   200 3100    \n",
       "236496  -observatorio-avifauna-hotel-pedro-i-de-aragon...   200 3100    \n",
       "\n",
       "                                               User_Agent VLOG  \\\n",
       "181473  Mozilla/5.0 (compatible; AhrefsBot/5.0; +http:...        \n",
       "236496  Mozilla/5.0 (compatible; AhrefsBot/5.0; +http:...        \n",
       "\n",
       "                                                     TBC2     TBC3  \n",
       "181473  Mozilla/5.0 (compatible; AhrefsBot/5.0; +http:...   VLOG=-  \n",
       "236496  Mozilla/5.0 (compatible; AhrefsBot/5.0; +http:...   VLOG=-  "
      ]
     },
     "execution_count": 28,
     "metadata": {},
     "output_type": "execute_result"
    }
   ],
   "source": [
    "WebLogAk.loc[(181473,236496),'User_Agent']='Mozilla/5.0 (compatible; AhrefsBot/5.0; +http://ahrefs.com/robot/)'\n",
    "WebLogAk.loc[[181473,236496], :]"
   ]
  },
  {
   "cell_type": "code",
   "execution_count": 29,
   "metadata": {},
   "outputs": [
    {
     "data": {
      "text/plain": [
       "array([None, ' VLOG=-'], dtype=object)"
      ]
     },
     "execution_count": 29,
     "metadata": {},
     "output_type": "execute_result"
    }
   ],
   "source": [
    "WebLogAk['TBC3'].unique() "
   ]
  },
  {
   "cell_type": "code",
   "execution_count": 30,
   "metadata": {},
   "outputs": [
    {
     "data": {
      "text/html": [
       "<div>\n",
       "<style scoped>\n",
       "    .dataframe tbody tr th:only-of-type {\n",
       "        vertical-align: middle;\n",
       "    }\n",
       "\n",
       "    .dataframe tbody tr th {\n",
       "        vertical-align: top;\n",
       "    }\n",
       "\n",
       "    .dataframe thead th {\n",
       "        text-align: right;\n",
       "    }\n",
       "</style>\n",
       "<table border=\"1\" class=\"dataframe\">\n",
       "  <thead>\n",
       "    <tr style=\"text-align: right;\">\n",
       "      <th></th>\n",
       "      <th>Ak_Web</th>\n",
       "      <th>Ip</th>\n",
       "      <th>Date_Time</th>\n",
       "      <th>Request</th>\n",
       "      <th>Status</th>\n",
       "      <th>Size</th>\n",
       "      <th>Referer</th>\n",
       "      <th>TBC1</th>\n",
       "      <th>User_Agent</th>\n",
       "      <th>VLOG</th>\n",
       "      <th>TBC2</th>\n",
       "      <th>TBC3</th>\n",
       "    </tr>\n",
       "  </thead>\n",
       "  <tbody>\n",
       "    <tr>\n",
       "      <th>181473</th>\n",
       "      <td>www.akumenius.com</td>\n",
       "      <td>5.10.83.41</td>\n",
       "      <td>26/Feb/2014:23:44:22 +0100</td>\n",
       "      <td>GET /escapadas/escapada-especial-san-valentin-\\</td>\n",
       "      <td>200</td>\n",
       "      <td>3100</td>\n",
       "      <td>-en-playa-de-san-juan-hotel-castilla-alicante-...</td>\n",
       "      <td>200 3100</td>\n",
       "      <td>Mozilla/5.0 (compatible; AhrefsBot/5.0; +http:...</td>\n",
       "      <td></td>\n",
       "      <td>Mozilla/5.0 (compatible; AhrefsBot/5.0; +http:...</td>\n",
       "      <td>VLOG=-</td>\n",
       "    </tr>\n",
       "    <tr>\n",
       "      <th>236496</th>\n",
       "      <td>www.akumenius.com</td>\n",
       "      <td>5.10.83.11</td>\n",
       "      <td>28/Feb/2014:16:07:20 +0100</td>\n",
       "      <td>GET /escapadas/escapada-\\</td>\n",
       "      <td>200</td>\n",
       "      <td>3100</td>\n",
       "      <td>-observatorio-avifauna-hotel-pedro-i-de-aragon...</td>\n",
       "      <td>200 3100</td>\n",
       "      <td>Mozilla/5.0 (compatible; AhrefsBot/5.0; +http:...</td>\n",
       "      <td></td>\n",
       "      <td>Mozilla/5.0 (compatible; AhrefsBot/5.0; +http:...</td>\n",
       "      <td>VLOG=-</td>\n",
       "    </tr>\n",
       "  </tbody>\n",
       "</table>\n",
       "</div>"
      ],
      "text/plain": [
       "                   Ak_Web          Ip                   Date_Time  \\\n",
       "181473  www.akumenius.com  5.10.83.41  26/Feb/2014:23:44:22 +0100   \n",
       "236496  www.akumenius.com  5.10.83.11  28/Feb/2014:16:07:20 +0100   \n",
       "\n",
       "                                                Request Status  Size  \\\n",
       "181473  GET /escapadas/escapada-especial-san-valentin-\\    200  3100   \n",
       "236496                        GET /escapadas/escapada-\\    200  3100   \n",
       "\n",
       "                                                  Referer        TBC1  \\\n",
       "181473  -en-playa-de-san-juan-hotel-castilla-alicante-...   200 3100    \n",
       "236496  -observatorio-avifauna-hotel-pedro-i-de-aragon...   200 3100    \n",
       "\n",
       "                                               User_Agent VLOG  \\\n",
       "181473  Mozilla/5.0 (compatible; AhrefsBot/5.0; +http:...        \n",
       "236496  Mozilla/5.0 (compatible; AhrefsBot/5.0; +http:...        \n",
       "\n",
       "                                                     TBC2     TBC3  \n",
       "181473  Mozilla/5.0 (compatible; AhrefsBot/5.0; +http:...   VLOG=-  \n",
       "236496  Mozilla/5.0 (compatible; AhrefsBot/5.0; +http:...   VLOG=-  "
      ]
     },
     "execution_count": 30,
     "metadata": {},
     "output_type": "execute_result"
    }
   ],
   "source": [
    "WebLogAk.loc[WebLogAk['TBC3'] == ' VLOG=-']  "
   ]
  },
  {
   "cell_type": "code",
   "execution_count": 31,
   "metadata": {},
   "outputs": [
    {
     "data": {
      "text/html": [
       "<div>\n",
       "<style scoped>\n",
       "    .dataframe tbody tr th:only-of-type {\n",
       "        vertical-align: middle;\n",
       "    }\n",
       "\n",
       "    .dataframe tbody tr th {\n",
       "        vertical-align: top;\n",
       "    }\n",
       "\n",
       "    .dataframe thead th {\n",
       "        text-align: right;\n",
       "    }\n",
       "</style>\n",
       "<table border=\"1\" class=\"dataframe\">\n",
       "  <thead>\n",
       "    <tr style=\"text-align: right;\">\n",
       "      <th></th>\n",
       "      <th>Ak_Web</th>\n",
       "      <th>Ip</th>\n",
       "      <th>Date_Time</th>\n",
       "      <th>Request</th>\n",
       "      <th>Status</th>\n",
       "      <th>Size</th>\n",
       "      <th>Referer</th>\n",
       "      <th>TBC1</th>\n",
       "      <th>User_Agent</th>\n",
       "      <th>VLOG</th>\n",
       "      <th>TBC2</th>\n",
       "      <th>TBC3</th>\n",
       "    </tr>\n",
       "  </thead>\n",
       "  <tbody>\n",
       "    <tr>\n",
       "      <th>181473</th>\n",
       "      <td>www.akumenius.com</td>\n",
       "      <td>5.10.83.41</td>\n",
       "      <td>26/Feb/2014:23:44:22 +0100</td>\n",
       "      <td>GET /escapadas/escapada-especial-san-valentin-\\</td>\n",
       "      <td>200</td>\n",
       "      <td>3100</td>\n",
       "      <td>-en-playa-de-san-juan-hotel-castilla-alicante-...</td>\n",
       "      <td>200 3100</td>\n",
       "      <td>Mozilla/5.0 (compatible; AhrefsBot/5.0; +http:...</td>\n",
       "      <td>VLOG=-</td>\n",
       "      <td>Mozilla/5.0 (compatible; AhrefsBot/5.0; +http:...</td>\n",
       "      <td>VLOG=-</td>\n",
       "    </tr>\n",
       "    <tr>\n",
       "      <th>236496</th>\n",
       "      <td>www.akumenius.com</td>\n",
       "      <td>5.10.83.11</td>\n",
       "      <td>28/Feb/2014:16:07:20 +0100</td>\n",
       "      <td>GET /escapadas/escapada-\\</td>\n",
       "      <td>200</td>\n",
       "      <td>3100</td>\n",
       "      <td>-observatorio-avifauna-hotel-pedro-i-de-aragon...</td>\n",
       "      <td>200 3100</td>\n",
       "      <td>Mozilla/5.0 (compatible; AhrefsBot/5.0; +http:...</td>\n",
       "      <td>VLOG=-</td>\n",
       "      <td>Mozilla/5.0 (compatible; AhrefsBot/5.0; +http:...</td>\n",
       "      <td>VLOG=-</td>\n",
       "    </tr>\n",
       "  </tbody>\n",
       "</table>\n",
       "</div>"
      ],
      "text/plain": [
       "                   Ak_Web          Ip                   Date_Time  \\\n",
       "181473  www.akumenius.com  5.10.83.41  26/Feb/2014:23:44:22 +0100   \n",
       "236496  www.akumenius.com  5.10.83.11  28/Feb/2014:16:07:20 +0100   \n",
       "\n",
       "                                                Request Status  Size  \\\n",
       "181473  GET /escapadas/escapada-especial-san-valentin-\\    200  3100   \n",
       "236496                        GET /escapadas/escapada-\\    200  3100   \n",
       "\n",
       "                                                  Referer        TBC1  \\\n",
       "181473  -en-playa-de-san-juan-hotel-castilla-alicante-...   200 3100    \n",
       "236496  -observatorio-avifauna-hotel-pedro-i-de-aragon...   200 3100    \n",
       "\n",
       "                                               User_Agent    VLOG  \\\n",
       "181473  Mozilla/5.0 (compatible; AhrefsBot/5.0; +http:...  VLOG=-   \n",
       "236496  Mozilla/5.0 (compatible; AhrefsBot/5.0; +http:...  VLOG=-   \n",
       "\n",
       "                                                     TBC2     TBC3  \n",
       "181473  Mozilla/5.0 (compatible; AhrefsBot/5.0; +http:...   VLOG=-  \n",
       "236496  Mozilla/5.0 (compatible; AhrefsBot/5.0; +http:...   VLOG=-  "
      ]
     },
     "execution_count": 31,
     "metadata": {},
     "output_type": "execute_result"
    }
   ],
   "source": [
    "WebLogAk.loc[(181473,236496),'VLOG']='VLOG=-'\n",
    "WebLogAk.loc[[181473,236496], :]"
   ]
  },
  {
   "cell_type": "markdown",
   "metadata": {},
   "source": [
    " ### <span style=color:green><ins> Drop 'TBC1, TBC2, TBC3'  </ins></span>"
   ]
  },
  {
   "cell_type": "code",
   "execution_count": 32,
   "metadata": {
    "scrolled": true
   },
   "outputs": [
    {
     "data": {
      "text/html": [
       "<div>\n",
       "<style scoped>\n",
       "    .dataframe tbody tr th:only-of-type {\n",
       "        vertical-align: middle;\n",
       "    }\n",
       "\n",
       "    .dataframe tbody tr th {\n",
       "        vertical-align: top;\n",
       "    }\n",
       "\n",
       "    .dataframe thead th {\n",
       "        text-align: right;\n",
       "    }\n",
       "</style>\n",
       "<table border=\"1\" class=\"dataframe\">\n",
       "  <thead>\n",
       "    <tr style=\"text-align: right;\">\n",
       "      <th></th>\n",
       "      <th>Ak_Web</th>\n",
       "      <th>Ip</th>\n",
       "      <th>Date_Time</th>\n",
       "      <th>Request</th>\n",
       "      <th>Status</th>\n",
       "      <th>Size</th>\n",
       "      <th>Referer</th>\n",
       "      <th>User_Agent</th>\n",
       "    </tr>\n",
       "  </thead>\n",
       "  <tbody>\n",
       "    <tr>\n",
       "      <th>21</th>\n",
       "      <td>localhost</td>\n",
       "      <td>127.0.0.1</td>\n",
       "      <td>23/Feb/2014:03:10:31 +0100</td>\n",
       "      <td>OPTIONS * HTTP/1.0</td>\n",
       "      <td>200</td>\n",
       "      <td>-</td>\n",
       "      <td>-</td>\n",
       "      <td>Apache (internal dummy connection)</td>\n",
       "    </tr>\n",
       "    <tr>\n",
       "      <th>21</th>\n",
       "      <td>localhost</td>\n",
       "      <td>127.0.0.1</td>\n",
       "      <td>23/Feb/2014:03:10:31 +0100</td>\n",
       "      <td>OPTIONS * HTTP/1.0</td>\n",
       "      <td>200</td>\n",
       "      <td>-</td>\n",
       "      <td>-</td>\n",
       "      <td>Apache (internal dummy connection)</td>\n",
       "    </tr>\n",
       "    <tr>\n",
       "      <th>23</th>\n",
       "      <td>www.akumenius.com</td>\n",
       "      <td>66.249.76.216</td>\n",
       "      <td>23/Feb/2014:03:10:33 +0100</td>\n",
       "      <td>GET /hoteles-baratos/ofertas-hotel-Metropolis-...</td>\n",
       "      <td>404</td>\n",
       "      <td>3100</td>\n",
       "      <td>-</td>\n",
       "      <td>Mozilla/5.0 (compatible; Googlebot/2.1; +http:...</td>\n",
       "    </tr>\n",
       "    <tr>\n",
       "      <th>181473</th>\n",
       "      <td>www.akumenius.com</td>\n",
       "      <td>5.10.83.41</td>\n",
       "      <td>26/Feb/2014:23:44:22 +0100</td>\n",
       "      <td>GET /escapadas/escapada-especial-san-valentin-\\</td>\n",
       "      <td>200</td>\n",
       "      <td>3100</td>\n",
       "      <td>-en-playa-de-san-juan-hotel-castilla-alicante-...</td>\n",
       "      <td>Mozilla/5.0 (compatible; AhrefsBot/5.0; +http:...</td>\n",
       "    </tr>\n",
       "    <tr>\n",
       "      <th>236496</th>\n",
       "      <td>www.akumenius.com</td>\n",
       "      <td>5.10.83.11</td>\n",
       "      <td>28/Feb/2014:16:07:20 +0100</td>\n",
       "      <td>GET /escapadas/escapada-\\</td>\n",
       "      <td>200</td>\n",
       "      <td>3100</td>\n",
       "      <td>-observatorio-avifauna-hotel-pedro-i-de-aragon...</td>\n",
       "      <td>Mozilla/5.0 (compatible; AhrefsBot/5.0; +http:...</td>\n",
       "    </tr>\n",
       "  </tbody>\n",
       "</table>\n",
       "</div>"
      ],
      "text/plain": [
       "                   Ak_Web             Ip                   Date_Time  \\\n",
       "21              localhost      127.0.0.1  23/Feb/2014:03:10:31 +0100   \n",
       "21              localhost      127.0.0.1  23/Feb/2014:03:10:31 +0100   \n",
       "23      www.akumenius.com  66.249.76.216  23/Feb/2014:03:10:33 +0100   \n",
       "181473  www.akumenius.com     5.10.83.41  26/Feb/2014:23:44:22 +0100   \n",
       "236496  www.akumenius.com     5.10.83.11  28/Feb/2014:16:07:20 +0100   \n",
       "\n",
       "                                                  Request Status   Size  \\\n",
       "21                                     OPTIONS * HTTP/1.0    200     -    \n",
       "21                                     OPTIONS * HTTP/1.0    200     -    \n",
       "23      GET /hoteles-baratos/ofertas-hotel-Metropolis-...    404  3100    \n",
       "181473    GET /escapadas/escapada-especial-san-valentin-\\    200   3100   \n",
       "236496                          GET /escapadas/escapada-\\    200   3100   \n",
       "\n",
       "                                                  Referer  \\\n",
       "21                                                      -   \n",
       "21                                                      -   \n",
       "23                                                      -   \n",
       "181473  -en-playa-de-san-juan-hotel-castilla-alicante-...   \n",
       "236496  -observatorio-avifauna-hotel-pedro-i-de-aragon...   \n",
       "\n",
       "                                               User_Agent  \n",
       "21                     Apache (internal dummy connection)  \n",
       "21                     Apache (internal dummy connection)  \n",
       "23      Mozilla/5.0 (compatible; Googlebot/2.1; +http:...  \n",
       "181473  Mozilla/5.0 (compatible; AhrefsBot/5.0; +http:...  \n",
       "236496  Mozilla/5.0 (compatible; AhrefsBot/5.0; +http:...  "
      ]
     },
     "execution_count": 32,
     "metadata": {},
     "output_type": "execute_result"
    }
   ],
   "source": [
    "WebLogAk.drop(['TBC1','TBC2','TBC3','VLOG'], axis=1, inplace=True)\n",
    "WebLogAk.loc[[21,21,23,181473,236496], :]"
   ]
  },
  {
   "cell_type": "markdown",
   "metadata": {},
   "source": [
    " ### 10. SAVE CSV file"
   ]
  },
  {
   "cell_type": "code",
   "execution_count": 33,
   "metadata": {},
   "outputs": [],
   "source": [
    "WebLogAk.to_csv(r'C:\\Users\\mio\\Documents\\IT ACADEMY\\5.7_Altres mòduls bàsics de Python\\WebLogAk_Normalized.csv', index = False)"
   ]
  },
  {
   "cell_type": "markdown",
   "metadata": {},
   "source": [
    "### <span style=color:green><ins> Methods to save to_csv()  o to_excel() </ins></span>\n",
    "Tomas, esto lo parametrizas, con el metodo to_csv()  o to_excel(), echadle un vistazo a los argumentos. por ejemplo crear un lista de las variables a guardar.!!\n",
    "https://pandas.pydata.org/pandas-docs/stable/reference/api/pandas.DataFrame.to_csv.html\n",
    "https://pandas.pydata.org/pandas-docs/stable/reference/api/pandas.DataFrame.to_excel.html?highlight=to_excel#pandas.DataFrame.to_excel\n",
    "https://www.analyticslane.com/2018/06/15/guardar-y-leer-archivos-csv-con-python/"
   ]
  },
  {
   "cell_type": "markdown",
   "metadata": {},
   "source": [
    "# <span style=color:darkblue>Nivell 2</span>"
   ]
  },
  {
   "cell_type": "markdown",
   "metadata": {},
   "source": [
    "<u style=color:blue>Exercici 2:</u>\n",
    "\n",
    "<span style=color:blue>Neteja, preprocesa, estructura i transforma (dataframe) les dades del registre d'Accés a la web..</span>"
   ]
  },
  {
   "cell_type": "code",
   "execution_count": 34,
   "metadata": {},
   "outputs": [],
   "source": [
    "import pandas as pd\n",
    "import numpy as np\n",
    "import matplotlib.pyplot as plt\n",
    "import warnings\n",
    "import re\n",
    "import seaborn as sns"
   ]
  },
  {
   "cell_type": "code",
   "execution_count": 35,
   "metadata": {},
   "outputs": [
    {
     "data": {
      "text/html": [
       "<div>\n",
       "<style scoped>\n",
       "    .dataframe tbody tr th:only-of-type {\n",
       "        vertical-align: middle;\n",
       "    }\n",
       "\n",
       "    .dataframe tbody tr th {\n",
       "        vertical-align: top;\n",
       "    }\n",
       "\n",
       "    .dataframe thead th {\n",
       "        text-align: right;\n",
       "    }\n",
       "</style>\n",
       "<table border=\"1\" class=\"dataframe\">\n",
       "  <thead>\n",
       "    <tr style=\"text-align: right;\">\n",
       "      <th></th>\n",
       "      <th>Ak_Web</th>\n",
       "      <th>Ip</th>\n",
       "      <th>Date_Time</th>\n",
       "      <th>Request</th>\n",
       "      <th>Status</th>\n",
       "      <th>Size</th>\n",
       "      <th>Referer</th>\n",
       "      <th>User_Agent</th>\n",
       "    </tr>\n",
       "  </thead>\n",
       "  <tbody>\n",
       "    <tr>\n",
       "      <th>0</th>\n",
       "      <td>localhost</td>\n",
       "      <td>127.0.0.1</td>\n",
       "      <td>23/Feb/2014:03:10:31 +0100</td>\n",
       "      <td>OPTIONS * HTTP/1.0</td>\n",
       "      <td>200</td>\n",
       "      <td>-</td>\n",
       "      <td>-</td>\n",
       "      <td>Apache (internal dummy connection)</td>\n",
       "    </tr>\n",
       "    <tr>\n",
       "      <th>1</th>\n",
       "      <td>www.akumenius.com</td>\n",
       "      <td>66.249.76.216</td>\n",
       "      <td>23/Feb/2014:03:10:31 +0100</td>\n",
       "      <td>GET /hoteles-baratos/ofertas-hotel-Club-&amp;-Hote...</td>\n",
       "      <td>404</td>\n",
       "      <td>3100</td>\n",
       "      <td>-</td>\n",
       "      <td>Mozilla/5.0 (compatible; Googlebot/2.1; +http:...</td>\n",
       "    </tr>\n",
       "  </tbody>\n",
       "</table>\n",
       "</div>"
      ],
      "text/plain": [
       "              Ak_Web             Ip                   Date_Time  \\\n",
       "0          localhost      127.0.0.1  23/Feb/2014:03:10:31 +0100   \n",
       "1  www.akumenius.com  66.249.76.216  23/Feb/2014:03:10:31 +0100   \n",
       "\n",
       "                                             Request  Status   Size Referer  \\\n",
       "0                                 OPTIONS * HTTP/1.0     200     -        -   \n",
       "1  GET /hoteles-baratos/ofertas-hotel-Club-&-Hote...     404  3100        -   \n",
       "\n",
       "                                          User_Agent  \n",
       "0                 Apache (internal dummy connection)  \n",
       "1  Mozilla/5.0 (compatible; Googlebot/2.1; +http:...  "
      ]
     },
     "execution_count": 35,
     "metadata": {},
     "output_type": "execute_result"
    }
   ],
   "source": [
    "#pd.read_csv('Web_access_log-akumenius.com.txt', sep='delimiter', header=None, engine='python')\n",
    "\n",
    "WebLogAkN = pd.read_csv('WebLogAk_Normalized.csv')\n",
    "WebLogAkN.head(2)"
   ]
  },
  {
   "cell_type": "markdown",
   "metadata": {},
   "source": [
    "### 1. COLUMN 'Date_Time'.......transform to datetime & Plot 'traffic/day'"
   ]
  },
  {
   "cell_type": "code",
   "execution_count": 36,
   "metadata": {},
   "outputs": [
    {
     "data": {
      "text/html": [
       "<div>\n",
       "<style scoped>\n",
       "    .dataframe tbody tr th:only-of-type {\n",
       "        vertical-align: middle;\n",
       "    }\n",
       "\n",
       "    .dataframe tbody tr th {\n",
       "        vertical-align: top;\n",
       "    }\n",
       "\n",
       "    .dataframe thead th {\n",
       "        text-align: right;\n",
       "    }\n",
       "</style>\n",
       "<table border=\"1\" class=\"dataframe\">\n",
       "  <thead>\n",
       "    <tr style=\"text-align: right;\">\n",
       "      <th></th>\n",
       "      <th>Ak_Web</th>\n",
       "      <th>Ip</th>\n",
       "      <th>Date_Time</th>\n",
       "      <th>Request</th>\n",
       "      <th>Status</th>\n",
       "      <th>Size</th>\n",
       "      <th>Referer</th>\n",
       "      <th>User_Agent</th>\n",
       "    </tr>\n",
       "  </thead>\n",
       "  <tbody>\n",
       "    <tr>\n",
       "      <th>0</th>\n",
       "      <td>localhost</td>\n",
       "      <td>127.0.0.1</td>\n",
       "      <td>2014-02-23 03:10:31+01:00</td>\n",
       "      <td>OPTIONS * HTTP/1.0</td>\n",
       "      <td>200</td>\n",
       "      <td>-</td>\n",
       "      <td>-</td>\n",
       "      <td>Apache (internal dummy connection)</td>\n",
       "    </tr>\n",
       "  </tbody>\n",
       "</table>\n",
       "</div>"
      ],
      "text/plain": [
       "      Ak_Web         Ip                 Date_Time             Request  Status  \\\n",
       "0  localhost  127.0.0.1 2014-02-23 03:10:31+01:00  OPTIONS * HTTP/1.0     200   \n",
       "\n",
       "  Size Referer                          User_Agent  \n",
       "0   -        -  Apache (internal dummy connection)  "
      ]
     },
     "execution_count": 36,
     "metadata": {},
     "output_type": "execute_result"
    }
   ],
   "source": [
    "#INFO: https://docs.python.org/3/library/datetime.html#strftime-and-strptime-behavior\n",
    "WebLogAkN['Date_Time'] =  pd.to_datetime(WebLogAkN['Date_Time'], format='%d/%b/%Y:%H:%M:%S %z')\n",
    "WebLogAkN.head(1)"
   ]
  },
  {
   "cell_type": "code",
   "execution_count": 37,
   "metadata": {},
   "outputs": [
    {
     "data": {
      "text/plain": [
       "Ak_Web                                      object\n",
       "Ip                                          object\n",
       "Date_Time     datetime64[ns, pytz.FixedOffset(60)]\n",
       "Request                                     object\n",
       "Status                                       int64\n",
       "Size                                        object\n",
       "Referer                                     object\n",
       "User_Agent                                  object\n",
       "dtype: object"
      ]
     },
     "execution_count": 37,
     "metadata": {},
     "output_type": "execute_result"
    }
   ],
   "source": [
    "WebLogAkN.dtypes"
   ]
  },
  {
   "cell_type": "code",
   "execution_count": 38,
   "metadata": {},
   "outputs": [
    {
     "data": {
      "text/html": [
       "<div>\n",
       "<style scoped>\n",
       "    .dataframe tbody tr th:only-of-type {\n",
       "        vertical-align: middle;\n",
       "    }\n",
       "\n",
       "    .dataframe tbody tr th {\n",
       "        vertical-align: top;\n",
       "    }\n",
       "\n",
       "    .dataframe thead th {\n",
       "        text-align: right;\n",
       "    }\n",
       "</style>\n",
       "<table border=\"1\" class=\"dataframe\">\n",
       "  <thead>\n",
       "    <tr style=\"text-align: right;\">\n",
       "      <th></th>\n",
       "      <th>Ak_Web</th>\n",
       "      <th>Ip</th>\n",
       "      <th>Date_Time</th>\n",
       "      <th>Request</th>\n",
       "      <th>Status</th>\n",
       "      <th>Size</th>\n",
       "      <th>Referer</th>\n",
       "      <th>User_Agent</th>\n",
       "      <th>Day</th>\n",
       "      <th>Day_Name</th>\n",
       "    </tr>\n",
       "  </thead>\n",
       "  <tbody>\n",
       "    <tr>\n",
       "      <th>0</th>\n",
       "      <td>localhost</td>\n",
       "      <td>127.0.0.1</td>\n",
       "      <td>2014-02-23 03:10:31+01:00</td>\n",
       "      <td>OPTIONS * HTTP/1.0</td>\n",
       "      <td>200</td>\n",
       "      <td>-</td>\n",
       "      <td>-</td>\n",
       "      <td>Apache (internal dummy connection)</td>\n",
       "      <td>2014-02-23</td>\n",
       "      <td>Sunday</td>\n",
       "    </tr>\n",
       "    <tr>\n",
       "      <th>1</th>\n",
       "      <td>www.akumenius.com</td>\n",
       "      <td>66.249.76.216</td>\n",
       "      <td>2014-02-23 03:10:31+01:00</td>\n",
       "      <td>GET /hoteles-baratos/ofertas-hotel-Club-&amp;-Hote...</td>\n",
       "      <td>404</td>\n",
       "      <td>3100</td>\n",
       "      <td>-</td>\n",
       "      <td>Mozilla/5.0 (compatible; Googlebot/2.1; +http:...</td>\n",
       "      <td>2014-02-23</td>\n",
       "      <td>Sunday</td>\n",
       "    </tr>\n",
       "    <tr>\n",
       "      <th>2</th>\n",
       "      <td>www.akumenius.com</td>\n",
       "      <td>66.249.76.216</td>\n",
       "      <td>2014-02-23 03:10:33+01:00</td>\n",
       "      <td>GET /hoteles-baratos/ofertas-hotel-Metropolis-...</td>\n",
       "      <td>404</td>\n",
       "      <td>3100</td>\n",
       "      <td>-</td>\n",
       "      <td>Mozilla/5.0 (compatible; Googlebot/2.1; +http:...</td>\n",
       "      <td>2014-02-23</td>\n",
       "      <td>Sunday</td>\n",
       "    </tr>\n",
       "  </tbody>\n",
       "</table>\n",
       "</div>"
      ],
      "text/plain": [
       "              Ak_Web             Ip                 Date_Time  \\\n",
       "0          localhost      127.0.0.1 2014-02-23 03:10:31+01:00   \n",
       "1  www.akumenius.com  66.249.76.216 2014-02-23 03:10:31+01:00   \n",
       "2  www.akumenius.com  66.249.76.216 2014-02-23 03:10:33+01:00   \n",
       "\n",
       "                                             Request  Status   Size Referer  \\\n",
       "0                                 OPTIONS * HTTP/1.0     200     -        -   \n",
       "1  GET /hoteles-baratos/ofertas-hotel-Club-&-Hote...     404  3100        -   \n",
       "2  GET /hoteles-baratos/ofertas-hotel-Metropolis-...     404  3100        -   \n",
       "\n",
       "                                          User_Agent         Day Day_Name  \n",
       "0                 Apache (internal dummy connection)  2014-02-23   Sunday  \n",
       "1  Mozilla/5.0 (compatible; Googlebot/2.1; +http:...  2014-02-23   Sunday  \n",
       "2  Mozilla/5.0 (compatible; Googlebot/2.1; +http:...  2014-02-23   Sunday  "
      ]
     },
     "execution_count": 38,
     "metadata": {},
     "output_type": "execute_result"
    }
   ],
   "source": [
    "# Extraer el nombre del dia de la semana numerico\n",
    "WebLogAkN['Day'] = WebLogAkN.Date_Time.dt.date\n",
    "WebLogAkN['Day_Name']=WebLogAkN.Date_Time.dt.day_name()\n",
    "# return day name in french...........df.dt.day_name(locale = 'French')\n",
    "WebLogAkN.head(3)"
   ]
  },
  {
   "cell_type": "markdown",
   "metadata": {},
   "source": [
    "### <span style=color:green><ins> Count & sort 'Day's traffic' </ins></span>"
   ]
  },
  {
   "cell_type": "markdown",
   "metadata": {},
   "source": [
    "#### <span style=color:blue><ins> Value_counts() tricks that make your work more efficient </ins></span>\n",
    "\n",
    "https://re-thought.com/pandas-value_counts/"
   ]
  },
  {
   "cell_type": "code",
   "execution_count": 39,
   "metadata": {},
   "outputs": [
    {
     "data": {
      "text/plain": [
       "2014-02-23    40235\n",
       "2014-02-24    47408\n",
       "2014-02-25    54963\n",
       "2014-02-26    35643\n",
       "2014-02-27    40905\n",
       "Name: Day, dtype: int64"
      ]
     },
     "execution_count": 39,
     "metadata": {},
     "output_type": "execute_result"
    }
   ],
   "source": [
    "Day_Count = WebLogAkN['Day'].value_counts().sort_index(ascending=True)\n",
    "Day_Count.head()"
   ]
  },
  {
   "cell_type": "code",
   "execution_count": 40,
   "metadata": {},
   "outputs": [
    {
     "data": {
      "text/plain": [
       "(array([0, 1, 2, 3, 4, 5, 6, 7]),\n",
       " [Text(0, 0, '2014-02-23'),\n",
       "  Text(0, 1, '2014-02-24'),\n",
       "  Text(0, 2, '2014-02-25'),\n",
       "  Text(0, 3, '2014-02-26'),\n",
       "  Text(0, 4, '2014-02-27'),\n",
       "  Text(0, 5, '2014-02-28'),\n",
       "  Text(0, 6, '2014-03-01'),\n",
       "  Text(0, 7, '2014-03-02')])"
      ]
     },
     "execution_count": 40,
     "metadata": {},
     "output_type": "execute_result"
    },
    {
     "data": {
      "image/png": "[encoded data removed]",
      "text/plain": [
       "<Figure size 432x288 with 1 Axes>"
      ]
     },
     "metadata": {
      "needs_background": "light"
     },
     "output_type": "display_data"
    }
   ],
   "source": [
    "Day_Count.plot(kind=\"barh\")\n",
    "plt.title(\"Request / Day\",fontsize=20)\n",
    "plt.xlabel(\"Qtity\", fontsize=16)\n",
    "plt.ylabel(\"Day of the week\", fontsize=16)\n",
    "plt.yticks(rotation=30)"
   ]
  },
  {
   "cell_type": "code",
   "execution_count": 41,
   "metadata": {},
   "outputs": [
    {
     "data": {
      "image/png": "[encoded data removed]",
      "text/plain": [
       "<Figure size 432x288 with 1 Axes>"
      ]
     },
     "metadata": {
      "needs_background": "light"
     },
     "output_type": "display_data"
    }
   ],
   "source": [
    "Day_Count.plot()\n",
    "plt.title(\"Request / Day\",fontsize=20)\n",
    "plt.xlabel(\"Qtity\", fontsize=16)\n",
    "plt.ylabel(\"Day of the week\", fontsize=16)\n",
    "plt.xticks(rotation=30)\n",
    "plt.show()"
   ]
  },
  {
   "cell_type": "markdown",
   "metadata": {},
   "source": [
    "### 2. COLUMN 'Request'"
   ]
  },
  {
   "cell_type": "markdown",
   "metadata": {},
   "source": [
    "Python’s Requests Library (Guide) – Real Python\n",
    "\n",
    "https://realpython.com/python-requests/\n",
    "    \n",
    "https://realpython.com/python-requests/#other-http-methods\n",
    "    "
   ]
  },
  {
   "cell_type": "markdown",
   "metadata": {},
   "source": [
    " ### 3. COLUMN 'Status'..........Number of good and failed transmissions.........Group & Plot "
   ]
  },
  {
   "cell_type": "markdown",
   "metadata": {},
   "source": [
    "##### <span style=color:green><ins> Confirmación de la solicitud (Código de estado HTTP) </ins></span>\n",
    "    https://www.ionos.es/digitalguide/hosting/cuestiones-tecnicas/una-mirada-a-los-codigos-de-estado-http-mas-comunes/"
   ]
  },
  {
   "cell_type": "markdown",
   "metadata": {},
   "source": [
    "### <span style=color:green><ins> Group and Count 'Total of Errors 2xx, 3xx..' </ins></span>"
   ]
  },
  {
   "cell_type": "code",
   "execution_count": 42,
   "metadata": {},
   "outputs": [],
   "source": [
    "# Data from Str to Int\n",
    "WebLogAkN['Status']= WebLogAkN['Status'].astype(str).astype(int)"
   ]
  },
  {
   "cell_type": "markdown",
   "metadata": {},
   "source": [
    "#### <span style=color:blue><ins> Groupby and Sum Only One Column and several </ins></span>\n",
    "\n",
    "https://stackoverflow.com/questions/38985053/pandas-groupby-and-sum-only-one-column"
   ]
  },
  {
   "cell_type": "code",
   "execution_count": 43,
   "metadata": {},
   "outputs": [
    {
     "data": {
      "text/plain": [
       "array([200, 404, 304, 502, 301, 403, 408, 400, 206, 401, 302, 500])"
      ]
     },
     "execution_count": 43,
     "metadata": {},
     "output_type": "execute_result"
    }
   ],
   "source": [
    "WebLogAkN['Status'].unique()"
   ]
  },
  {
   "cell_type": "code",
   "execution_count": 44,
   "metadata": {},
   "outputs": [
    {
     "data": {
      "text/html": [
       "<div>\n",
       "<style scoped>\n",
       "    .dataframe tbody tr th:only-of-type {\n",
       "        vertical-align: middle;\n",
       "    }\n",
       "\n",
       "    .dataframe tbody tr th {\n",
       "        vertical-align: top;\n",
       "    }\n",
       "\n",
       "    .dataframe thead th {\n",
       "        text-align: right;\n",
       "    }\n",
       "</style>\n",
       "<table border=\"1\" class=\"dataframe\">\n",
       "  <thead>\n",
       "    <tr style=\"text-align: right;\">\n",
       "      <th></th>\n",
       "      <th>Ak_Web</th>\n",
       "      <th>Ip</th>\n",
       "      <th>Date_Time</th>\n",
       "      <th>Request</th>\n",
       "      <th>Status</th>\n",
       "      <th>Size</th>\n",
       "      <th>Referer</th>\n",
       "      <th>User_Agent</th>\n",
       "      <th>Day</th>\n",
       "      <th>Day_Name</th>\n",
       "    </tr>\n",
       "    <tr>\n",
       "      <th>Status</th>\n",
       "      <th></th>\n",
       "      <th></th>\n",
       "      <th></th>\n",
       "      <th></th>\n",
       "      <th></th>\n",
       "      <th></th>\n",
       "      <th></th>\n",
       "      <th></th>\n",
       "      <th></th>\n",
       "      <th></th>\n",
       "    </tr>\n",
       "  </thead>\n",
       "  <tbody>\n",
       "    <tr>\n",
       "      <th>(0, 299]</th>\n",
       "      <td>222380</td>\n",
       "      <td>222380</td>\n",
       "      <td>222380</td>\n",
       "      <td>222380</td>\n",
       "      <td>222380</td>\n",
       "      <td>222380</td>\n",
       "      <td>222380</td>\n",
       "      <td>222380</td>\n",
       "      <td>222380</td>\n",
       "      <td>222380</td>\n",
       "    </tr>\n",
       "    <tr>\n",
       "      <th>(299, 399]</th>\n",
       "      <td>26016</td>\n",
       "      <td>26016</td>\n",
       "      <td>26016</td>\n",
       "      <td>26016</td>\n",
       "      <td>26016</td>\n",
       "      <td>26016</td>\n",
       "      <td>26016</td>\n",
       "      <td>26016</td>\n",
       "      <td>26016</td>\n",
       "      <td>26016</td>\n",
       "    </tr>\n",
       "    <tr>\n",
       "      <th>(399, 499]</th>\n",
       "      <td>8867</td>\n",
       "      <td>8867</td>\n",
       "      <td>8867</td>\n",
       "      <td>8867</td>\n",
       "      <td>8867</td>\n",
       "      <td>8867</td>\n",
       "      <td>8867</td>\n",
       "      <td>8867</td>\n",
       "      <td>8867</td>\n",
       "      <td>8867</td>\n",
       "    </tr>\n",
       "    <tr>\n",
       "      <th>(499, 599]</th>\n",
       "      <td>47</td>\n",
       "      <td>47</td>\n",
       "      <td>47</td>\n",
       "      <td>47</td>\n",
       "      <td>47</td>\n",
       "      <td>47</td>\n",
       "      <td>47</td>\n",
       "      <td>47</td>\n",
       "      <td>47</td>\n",
       "      <td>47</td>\n",
       "    </tr>\n",
       "  </tbody>\n",
       "</table>\n",
       "</div>"
      ],
      "text/plain": [
       "            Ak_Web      Ip  Date_Time  Request  Status    Size  Referer  \\\n",
       "Status                                                                    \n",
       "(0, 299]    222380  222380     222380   222380  222380  222380   222380   \n",
       "(299, 399]   26016   26016      26016    26016   26016   26016    26016   \n",
       "(399, 499]    8867    8867       8867     8867    8867    8867     8867   \n",
       "(499, 599]      47      47         47       47      47      47       47   \n",
       "\n",
       "            User_Agent     Day  Day_Name  \n",
       "Status                                    \n",
       "(0, 299]        222380  222380    222380  \n",
       "(299, 399]       26016   26016     26016  \n",
       "(399, 499]        8867    8867      8867  \n",
       "(499, 599]          47      47        47  "
      ]
     },
     "execution_count": 44,
     "metadata": {},
     "output_type": "execute_result"
    }
   ],
   "source": [
    "ranges = [0,299,399,499,599]\n",
    "WebLogAkN_St=WebLogAkN.groupby(pd.cut(WebLogAkN.Status, ranges)).count()\n",
    "WebLogAkN_St"
   ]
  },
  {
   "cell_type": "code",
   "execution_count": 45,
   "metadata": {},
   "outputs": [
    {
     "data": {
      "image/png": "[encoded data removed]",
      "text/plain": [
       "<Figure size 432x288 with 1 Axes>"
      ]
     },
     "metadata": {
      "needs_background": "light"
     },
     "output_type": "display_data"
    }
   ],
   "source": [
    "WebLogAkN_St['Status'].plot(kind=\"barh\", color=['blue', 'green', 'orange', 'brown'])\n",
    "plt.title(\"Request confirmation Overall Status\",fontsize=20)\n",
    "plt.xlabel(\"Qtity\", fontsize=16)\n",
    "plt.ylabel(\"Request confirmation type\", fontsize=16)\n",
    "plt.yticks([0, 1, 2,3], ['2xx - Éxito', '3xx - Redirecciones', '4xx - Errores del cliente','5xx - Errores del servidor'],\n",
    "           rotation=30)\n",
    "plt.xscale(\"log\")"
   ]
  },
  {
   "cell_type": "markdown",
   "metadata": {},
   "source": [
    "### <span style=color:green><ins> Count and sort 'Total of Errors 2xx, 3xx..' per Day </ins></span>"
   ]
  },
  {
   "cell_type": "code",
   "execution_count": 46,
   "metadata": {},
   "outputs": [
    {
     "data": {
      "text/html": [
       "<div>\n",
       "<style scoped>\n",
       "    .dataframe tbody tr th:only-of-type {\n",
       "        vertical-align: middle;\n",
       "    }\n",
       "\n",
       "    .dataframe tbody tr th {\n",
       "        vertical-align: top;\n",
       "    }\n",
       "\n",
       "    .dataframe thead th {\n",
       "        text-align: right;\n",
       "    }\n",
       "</style>\n",
       "<table border=\"1\" class=\"dataframe\">\n",
       "  <thead>\n",
       "    <tr style=\"text-align: right;\">\n",
       "      <th></th>\n",
       "      <th>Ak_Web</th>\n",
       "      <th>Ip</th>\n",
       "      <th>Date_Time</th>\n",
       "      <th>Request</th>\n",
       "      <th>Status</th>\n",
       "      <th>Size</th>\n",
       "      <th>Referer</th>\n",
       "      <th>User_Agent</th>\n",
       "      <th>Day</th>\n",
       "      <th>Day_Name</th>\n",
       "    </tr>\n",
       "  </thead>\n",
       "  <tbody>\n",
       "    <tr>\n",
       "      <th>0</th>\n",
       "      <td>localhost</td>\n",
       "      <td>127.0.0.1</td>\n",
       "      <td>2014-02-23 03:10:31+01:00</td>\n",
       "      <td>OPTIONS * HTTP/1.0</td>\n",
       "      <td>200</td>\n",
       "      <td>-</td>\n",
       "      <td>-</td>\n",
       "      <td>Apache (internal dummy connection)</td>\n",
       "      <td>2014-02-23</td>\n",
       "      <td>Sunday</td>\n",
       "    </tr>\n",
       "  </tbody>\n",
       "</table>\n",
       "</div>"
      ],
      "text/plain": [
       "      Ak_Web         Ip                 Date_Time             Request  Status  \\\n",
       "0  localhost  127.0.0.1 2014-02-23 03:10:31+01:00  OPTIONS * HTTP/1.0     200   \n",
       "\n",
       "  Size Referer                          User_Agent         Day Day_Name  \n",
       "0   -        -  Apache (internal dummy connection)  2014-02-23   Sunday  "
      ]
     },
     "execution_count": 46,
     "metadata": {},
     "output_type": "execute_result"
    }
   ],
   "source": [
    "WebLogAkN.head(1)"
   ]
  },
  {
   "cell_type": "markdown",
   "metadata": {},
   "source": [
    "#### <span style=color:blue><ins> How to groupby based on two columns </ins></span>\n",
    "\n",
    "https://stackoverflow.com/questions/43222137/how-to-groupby-based-on-two-columns-in-pandas"
   ]
  },
  {
   "cell_type": "code",
   "execution_count": 47,
   "metadata": {},
   "outputs": [
    {
     "data": {
      "text/plain": [
       "Day         Status\n",
       "2014-02-23  200       33762\n",
       "            206           9\n",
       "            301          80\n",
       "            304         330\n",
       "            400           1\n",
       "Name: Status, dtype: int64"
      ]
     },
     "execution_count": 47,
     "metadata": {},
     "output_type": "execute_result"
    }
   ],
   "source": [
    "WebLogAkN.groupby('Day')['Status'].value_counts().sort_index(ascending=True).head()\n",
    "# https://re-thought.com/pandas-value_counts/"
   ]
  },
  {
   "cell_type": "markdown",
   "metadata": {},
   "source": [
    "#### <span style=color:green><ins> How to select and sum with SUM (without GROUPBY) </ins></span>"
   ]
  },
  {
   "cell_type": "code",
   "execution_count": 48,
   "metadata": {
    "scrolled": true
   },
   "outputs": [
    {
     "data": {
      "text/html": [
       "<div>\n",
       "<style scoped>\n",
       "    .dataframe tbody tr th:only-of-type {\n",
       "        vertical-align: middle;\n",
       "    }\n",
       "\n",
       "    .dataframe tbody tr th {\n",
       "        vertical-align: top;\n",
       "    }\n",
       "\n",
       "    .dataframe thead th {\n",
       "        text-align: right;\n",
       "    }\n",
       "</style>\n",
       "<table border=\"1\" class=\"dataframe\">\n",
       "  <thead>\n",
       "    <tr style=\"text-align: right;\">\n",
       "      <th></th>\n",
       "      <th></th>\n",
       "      <th>0</th>\n",
       "    </tr>\n",
       "    <tr>\n",
       "      <th>Day</th>\n",
       "      <th>Status</th>\n",
       "      <th></th>\n",
       "    </tr>\n",
       "  </thead>\n",
       "  <tbody>\n",
       "    <tr>\n",
       "      <th rowspan=\"5\" valign=\"top\">2014-02-23</th>\n",
       "      <th>200</th>\n",
       "      <td>33762</td>\n",
       "    </tr>\n",
       "    <tr>\n",
       "      <th>206</th>\n",
       "      <td>9</td>\n",
       "    </tr>\n",
       "    <tr>\n",
       "      <th>301</th>\n",
       "      <td>80</td>\n",
       "    </tr>\n",
       "    <tr>\n",
       "      <th>304</th>\n",
       "      <td>330</td>\n",
       "    </tr>\n",
       "    <tr>\n",
       "      <th>400</th>\n",
       "      <td>1</td>\n",
       "    </tr>\n",
       "  </tbody>\n",
       "</table>\n",
       "</div>"
      ],
      "text/plain": [
       "                       0\n",
       "Day        Status       \n",
       "2014-02-23 200     33762\n",
       "           206         9\n",
       "           301        80\n",
       "           304       330\n",
       "           400         1"
      ]
     },
     "execution_count": 48,
     "metadata": {},
     "output_type": "execute_result"
    }
   ],
   "source": [
    "WebLogAkN_StDay=WebLogAkN[['Day','Status']].value_counts().to_frame().sort_index(ascending=True)\n",
    "WebLogAkN_StDay.head(5)\n",
    "# https://re-thought.com/pandas-value_counts/"
   ]
  },
  {
   "cell_type": "markdown",
   "metadata": {},
   "source": [
    "#### <span style=color:blue><ins> To reset Index and get all data with column names </ins></span>"
   ]
  },
  {
   "cell_type": "code",
   "execution_count": 49,
   "metadata": {},
   "outputs": [
    {
     "data": {
      "text/html": [
       "<div>\n",
       "<style scoped>\n",
       "    .dataframe tbody tr th:only-of-type {\n",
       "        vertical-align: middle;\n",
       "    }\n",
       "\n",
       "    .dataframe tbody tr th {\n",
       "        vertical-align: top;\n",
       "    }\n",
       "\n",
       "    .dataframe thead th {\n",
       "        text-align: right;\n",
       "    }\n",
       "</style>\n",
       "<table border=\"1\" class=\"dataframe\">\n",
       "  <thead>\n",
       "    <tr style=\"text-align: right;\">\n",
       "      <th></th>\n",
       "      <th>Day</th>\n",
       "      <th>Status</th>\n",
       "      <th>0</th>\n",
       "    </tr>\n",
       "  </thead>\n",
       "  <tbody>\n",
       "    <tr>\n",
       "      <th>0</th>\n",
       "      <td>2014-02-23</td>\n",
       "      <td>200</td>\n",
       "      <td>33762</td>\n",
       "    </tr>\n",
       "    <tr>\n",
       "      <th>1</th>\n",
       "      <td>2014-02-23</td>\n",
       "      <td>206</td>\n",
       "      <td>9</td>\n",
       "    </tr>\n",
       "    <tr>\n",
       "      <th>2</th>\n",
       "      <td>2014-02-23</td>\n",
       "      <td>301</td>\n",
       "      <td>80</td>\n",
       "    </tr>\n",
       "    <tr>\n",
       "      <th>3</th>\n",
       "      <td>2014-02-23</td>\n",
       "      <td>304</td>\n",
       "      <td>330</td>\n",
       "    </tr>\n",
       "    <tr>\n",
       "      <th>4</th>\n",
       "      <td>2014-02-23</td>\n",
       "      <td>400</td>\n",
       "      <td>1</td>\n",
       "    </tr>\n",
       "  </tbody>\n",
       "</table>\n",
       "</div>"
      ],
      "text/plain": [
       "          Day  Status      0\n",
       "0  2014-02-23     200  33762\n",
       "1  2014-02-23     206      9\n",
       "2  2014-02-23     301     80\n",
       "3  2014-02-23     304    330\n",
       "4  2014-02-23     400      1"
      ]
     },
     "execution_count": 49,
     "metadata": {},
     "output_type": "execute_result"
    }
   ],
   "source": [
    "WebLogAkN_StDay=WebLogAkN[['Day','Status']].value_counts().to_frame().sort_index(ascending=True).reset_index()\n",
    "WebLogAkN_StDay.head(5)\n",
    "\n",
    "# See also df.set_index() & df.rename_axis(index=['visit_date'])"
   ]
  },
  {
   "cell_type": "markdown",
   "metadata": {},
   "source": [
    "#### <span style=color:green><ins> How to plot with double index.....first pivot dataframe in order to get index as columns </ins></span>\n",
    "\n",
    "https://stackoverflow.com/questions/48151629/plotting-pandas-multi-index-dataframe-with-one-index-as-y-axis-and-other-as-x-ax"
   ]
  },
  {
   "cell_type": "code",
   "execution_count": 50,
   "metadata": {},
   "outputs": [
    {
     "data": {
      "text/html": [
       "<div>\n",
       "<style scoped>\n",
       "    .dataframe tbody tr th:only-of-type {\n",
       "        vertical-align: middle;\n",
       "    }\n",
       "\n",
       "    .dataframe tbody tr th {\n",
       "        vertical-align: top;\n",
       "    }\n",
       "\n",
       "    .dataframe thead th {\n",
       "        text-align: right;\n",
       "    }\n",
       "</style>\n",
       "<table border=\"1\" class=\"dataframe\">\n",
       "  <thead>\n",
       "    <tr style=\"text-align: right;\">\n",
       "      <th>Status</th>\n",
       "      <th>200</th>\n",
       "      <th>206</th>\n",
       "      <th>301</th>\n",
       "      <th>302</th>\n",
       "      <th>304</th>\n",
       "      <th>400</th>\n",
       "      <th>401</th>\n",
       "      <th>403</th>\n",
       "      <th>404</th>\n",
       "      <th>408</th>\n",
       "      <th>500</th>\n",
       "      <th>502</th>\n",
       "    </tr>\n",
       "    <tr>\n",
       "      <th>Day</th>\n",
       "      <th></th>\n",
       "      <th></th>\n",
       "      <th></th>\n",
       "      <th></th>\n",
       "      <th></th>\n",
       "      <th></th>\n",
       "      <th></th>\n",
       "      <th></th>\n",
       "      <th></th>\n",
       "      <th></th>\n",
       "      <th></th>\n",
       "      <th></th>\n",
       "    </tr>\n",
       "  </thead>\n",
       "  <tbody>\n",
       "    <tr>\n",
       "      <th>2014-02-23</th>\n",
       "      <td>33762.0</td>\n",
       "      <td>9.0</td>\n",
       "      <td>80.0</td>\n",
       "      <td>NaN</td>\n",
       "      <td>330.0</td>\n",
       "      <td>1.0</td>\n",
       "      <td>NaN</td>\n",
       "      <td>3.0</td>\n",
       "      <td>6036.0</td>\n",
       "      <td>3.0</td>\n",
       "      <td>NaN</td>\n",
       "      <td>11.0</td>\n",
       "    </tr>\n",
       "    <tr>\n",
       "      <th>2014-02-24</th>\n",
       "      <td>41166.0</td>\n",
       "      <td>86.0</td>\n",
       "      <td>108.0</td>\n",
       "      <td>15.0</td>\n",
       "      <td>3731.0</td>\n",
       "      <td>8.0</td>\n",
       "      <td>1.0</td>\n",
       "      <td>18.0</td>\n",
       "      <td>2257.0</td>\n",
       "      <td>10.0</td>\n",
       "      <td>1.0</td>\n",
       "      <td>7.0</td>\n",
       "    </tr>\n",
       "    <tr>\n",
       "      <th>2014-02-25</th>\n",
       "      <td>52241.0</td>\n",
       "      <td>89.0</td>\n",
       "      <td>101.0</td>\n",
       "      <td>60.0</td>\n",
       "      <td>2245.0</td>\n",
       "      <td>4.0</td>\n",
       "      <td>1.0</td>\n",
       "      <td>22.0</td>\n",
       "      <td>189.0</td>\n",
       "      <td>4.0</td>\n",
       "      <td>NaN</td>\n",
       "      <td>7.0</td>\n",
       "    </tr>\n",
       "    <tr>\n",
       "      <th>2014-02-26</th>\n",
       "      <td>32679.0</td>\n",
       "      <td>12.0</td>\n",
       "      <td>130.0</td>\n",
       "      <td>7.0</td>\n",
       "      <td>2684.0</td>\n",
       "      <td>2.0</td>\n",
       "      <td>1.0</td>\n",
       "      <td>53.0</td>\n",
       "      <td>65.0</td>\n",
       "      <td>3.0</td>\n",
       "      <td>2.0</td>\n",
       "      <td>5.0</td>\n",
       "    </tr>\n",
       "    <tr>\n",
       "      <th>2014-02-27</th>\n",
       "      <td>27362.0</td>\n",
       "      <td>23.0</td>\n",
       "      <td>115.0</td>\n",
       "      <td>22.0</td>\n",
       "      <td>13299.0</td>\n",
       "      <td>4.0</td>\n",
       "      <td>1.0</td>\n",
       "      <td>12.0</td>\n",
       "      <td>52.0</td>\n",
       "      <td>7.0</td>\n",
       "      <td>NaN</td>\n",
       "      <td>8.0</td>\n",
       "    </tr>\n",
       "    <tr>\n",
       "      <th>2014-02-28</th>\n",
       "      <td>17379.0</td>\n",
       "      <td>79.0</td>\n",
       "      <td>238.0</td>\n",
       "      <td>3.0</td>\n",
       "      <td>1486.0</td>\n",
       "      <td>1.0</td>\n",
       "      <td>1.0</td>\n",
       "      <td>32.0</td>\n",
       "      <td>21.0</td>\n",
       "      <td>NaN</td>\n",
       "      <td>NaN</td>\n",
       "      <td>2.0</td>\n",
       "    </tr>\n",
       "    <tr>\n",
       "      <th>2014-03-01</th>\n",
       "      <td>16182.0</td>\n",
       "      <td>3.0</td>\n",
       "      <td>85.0</td>\n",
       "      <td>2.0</td>\n",
       "      <td>1229.0</td>\n",
       "      <td>6.0</td>\n",
       "      <td>NaN</td>\n",
       "      <td>37.0</td>\n",
       "      <td>6.0</td>\n",
       "      <td>NaN</td>\n",
       "      <td>NaN</td>\n",
       "      <td>4.0</td>\n",
       "    </tr>\n",
       "    <tr>\n",
       "      <th>2014-03-02</th>\n",
       "      <td>1305.0</td>\n",
       "      <td>3.0</td>\n",
       "      <td>12.0</td>\n",
       "      <td>NaN</td>\n",
       "      <td>34.0</td>\n",
       "      <td>NaN</td>\n",
       "      <td>NaN</td>\n",
       "      <td>6.0</td>\n",
       "      <td>NaN</td>\n",
       "      <td>NaN</td>\n",
       "      <td>NaN</td>\n",
       "      <td>NaN</td>\n",
       "    </tr>\n",
       "  </tbody>\n",
       "</table>\n",
       "</div>"
      ],
      "text/plain": [
       "Status          200   206    301   302      304  400  401   403     404   408  \\\n",
       "Day                                                                             \n",
       "2014-02-23  33762.0   9.0   80.0   NaN    330.0  1.0  NaN   3.0  6036.0   3.0   \n",
       "2014-02-24  41166.0  86.0  108.0  15.0   3731.0  8.0  1.0  18.0  2257.0  10.0   \n",
       "2014-02-25  52241.0  89.0  101.0  60.0   2245.0  4.0  1.0  22.0   189.0   4.0   \n",
       "2014-02-26  32679.0  12.0  130.0   7.0   2684.0  2.0  1.0  53.0    65.0   3.0   \n",
       "2014-02-27  27362.0  23.0  115.0  22.0  13299.0  4.0  1.0  12.0    52.0   7.0   \n",
       "2014-02-28  17379.0  79.0  238.0   3.0   1486.0  1.0  1.0  32.0    21.0   NaN   \n",
       "2014-03-01  16182.0   3.0   85.0   2.0   1229.0  6.0  NaN  37.0     6.0   NaN   \n",
       "2014-03-02   1305.0   3.0   12.0   NaN     34.0  NaN  NaN   6.0     NaN   NaN   \n",
       "\n",
       "Status      500   502  \n",
       "Day                    \n",
       "2014-02-23  NaN  11.0  \n",
       "2014-02-24  1.0   7.0  \n",
       "2014-02-25  NaN   7.0  \n",
       "2014-02-26  2.0   5.0  \n",
       "2014-02-27  NaN   8.0  \n",
       "2014-02-28  NaN   2.0  \n",
       "2014-03-01  NaN   4.0  \n",
       "2014-03-02  NaN   NaN  "
      ]
     },
     "execution_count": 50,
     "metadata": {},
     "output_type": "execute_result"
    }
   ],
   "source": [
    "WebLogAkN_StDayP = WebLogAkN_StDay.reset_index().pivot('Day','Status',0)\n",
    "# can be plotted directly.....WebLogAkN_StDay.reset_index().pivot('Day','Status',0).plot(kind='bar',stacked=True, title='Req_Conf Qtity over the days', grid=True, figsize=(12,6))\n",
    "WebLogAkN_StDayP"
   ]
  },
  {
   "cell_type": "markdown",
   "metadata": {},
   "source": [
    "### <span style=color:green><ins> Matplotlib </ins></span>"
   ]
  },
  {
   "cell_type": "code",
   "execution_count": null,
   "metadata": {},
   "outputs": [
    {
     "data": {
      "text/plain": [
       "<matplotlib.legend.Legend at 0x1c98d8738e0>"
      ]
     },
     "execution_count": 51,
     "metadata": {},
     "output_type": "execute_result"
    },
    {
     "data": {
      "image/png": "[encoded data removed]",
      "text/plain": [
       "<Figure size 720x360 with 1 Axes>"
      ]
     },
     "metadata": {
      "needs_background": "light"
     },
     "output_type": "display_data"
    }
   ],
   "source": [
    "WebLogAkN_StDayP.plot(title='Req_Conf Qtity over the days', grid=True, figsize=(10,5))\n",
    "plt.xticks(rotation=30)\n",
    "plt.yscale(\"log\")\n",
    "WebLogAkN_StDayP.plot(kind='bar',title='Req_Conf Qtity over the days', grid=True, figsize=(12,6))\n",
    "plt.xticks(rotation=30)\n",
    "plt.yscale(\"log\")\n",
    "WebLogAkN_StDayP.plot(kind='bar',stacked=True, title='Req_Conf Qtity over the days', grid=True, figsize=(12,6))\n",
    "plt.xticks(rotation=30)\n",
    "WebLogAkN_StDayP.plot(kind='area',title='Req_Conf Qtity over the days', grid=True, figsize=(12,6))\n",
    "plt.xticks(rotation=30)\n",
    "plt.legend(fontsize=12)"
   ]
  },
  {
   "cell_type": "markdown",
   "metadata": {},
   "source": [
    "### <span style=color:green><ins> Seaborn </ins></span>"
   ]
  },
  {
   "cell_type": "code",
   "execution_count": null,
   "metadata": {},
   "outputs": [],
   "source": [
    "plt.figure(figsize=(10, 5))\n",
    "plt.xticks(rotation=30)\n",
    "sns.lineplot(data=WebLogAkN_StDayP)\n",
    "plt.yscale(\"log\")\n",
    "#https://seaborn.pydata.org/generated/seaborn.lineplot.html"
   ]
  },
  {
   "cell_type": "markdown",
   "metadata": {},
   "source": [
    "### 4. COLUMN 'Size'.......tranform to integer & groupby/count data"
   ]
  },
  {
   "cell_type": "code",
   "execution_count": null,
   "metadata": {},
   "outputs": [],
   "source": [
    "WebLogAkN['Size'].nunique() "
   ]
  },
  {
   "cell_type": "code",
   "execution_count": null,
   "metadata": {},
   "outputs": [],
   "source": [
    "WebLogAkN['Size'].unique() "
   ]
  },
  {
   "cell_type": "code",
   "execution_count": null,
   "metadata": {},
   "outputs": [],
   "source": [
    "WebLogAkN['Size'] = WebLogAkN['Size'].replace(['- '],'0')     #https://datatofish.com/replace-values-pandas-dataframe/"
   ]
  },
  {
   "cell_type": "code",
   "execution_count": null,
   "metadata": {},
   "outputs": [],
   "source": [
    "WebLogAkN['Size'].unique() "
   ]
  },
  {
   "cell_type": "code",
   "execution_count": null,
   "metadata": {},
   "outputs": [],
   "source": [
    "WebLogAkN['Size']= WebLogAkN['Size'].astype(str).astype(int)"
   ]
  },
  {
   "cell_type": "code",
   "execution_count": null,
   "metadata": {},
   "outputs": [],
   "source": [
    "WebLogAkN.dtypes"
   ]
  },
  {
   "cell_type": "code",
   "execution_count": null,
   "metadata": {},
   "outputs": [],
   "source": [
    "ranges = [0,5000,10000,25000,50000,100000,175000,300000]\n",
    "W3=WebLogAkN.groupby(pd.cut(WebLogAkN.Size, ranges)).count()\n",
    "W3"
   ]
  },
  {
   "cell_type": "code",
   "execution_count": null,
   "metadata": {},
   "outputs": [],
   "source": [
    "W3['Size'].plot(kind=\"barh\", color=['blue', 'green', 'orange', 'brown'])\n",
    "plt.title(\"Data Size Request\",fontsize=20)\n",
    "plt.xlabel(\"Qtity\", fontsize=16)\n",
    "plt.ylabel(\"Data Size\", fontsize=16)\n",
    "plt.yticks([0, 1, 2,3,4,5,6], ['0, 5000', '5000, 10000', '10000, 25000','25000, 50000', '50000, 100000','100000, 175000','175000, 300000'],\n",
    "           rotation=30)"
   ]
  },
  {
   "cell_type": "code",
   "execution_count": null,
   "metadata": {},
   "outputs": [],
   "source": [
    "WebLogAkN['Size'].value_counts()[WebLogAkN['Size'].value_counts() > 100000]"
   ]
  },
  {
   "cell_type": "markdown",
   "metadata": {},
   "source": [
    "### 5. Referer & 6. User_Agent"
   ]
  },
  {
   "cell_type": "markdown",
   "metadata": {},
   "source": [
    "Paquetes https://github.com/thinkwelltwd/device_detector o https://github.com/ua-parser/uap-python para sacar información. Hacerlo directamente parseando el user_agent puede ser demasiado engorroso"
   ]
  },
  {
   "cell_type": "markdown",
   "metadata": {},
   "source": [
    "Según he leído para localizar le User-agent de cada uno de los logs, no sería necesario trabajar toda la cadena que lo identifica. Sería solo necesario capturar aquellas partes invariables y que identifican inequívocamente al Firefox, Chrome..\n",
    "Firefox debería localizar “Gecko/20100101” “Firefox/”+ versión\n",
    "Chrome localitzar  “ KHTML like Gecko”  y “Safari”\n",
    "Etc. Seria suficiente?\n",
    "Fuente User-Agent - HTTP | MDN (mozilla.org)\n",
    "https://developer.mozilla.org/es/docs/Web/HTTP/Headers/User-Agent\n",
    "\n",
    "https://developer.mozilla.org/en-US/docs/Web/HTTP/Browser_detection_using_the_user_agent\n",
    "https://github.com/selwin/python-user-agents\n",
    "\n",
    "Entiendo que es suficiente, aunque depende de lo que busques. Por ejemplo, si quieres mostrar el sistema operativo, o si es un dispositivo móvil, o buscar los bots. Las librerías también ayudan a evitar reinventar la rueda."
   ]
  },
  {
   "cell_type": "markdown",
   "metadata": {},
   "source": [
    "Estoy viendo lo de los exploradores usados por cada user_agent. Hay algunos que tienen más de uno incluido. Por ej Safari y Chrome\n",
    "es normal? Será una cuestión de complementos entre ambos?\n",
    "Julio Abril - Data Science02/03/2021\n",
    "https://discordapp.com/channels/773911471271706634/789420852600766465/813820156500246568"
   ]
  },
  {
   "cell_type": "markdown",
   "metadata": {},
   "source": [
    "<span style=color:blue><u style=color:blue>Exercici 3:</u>\n",
    "\n",
    "<span style=color:blue>Geolocalitza les IP's. Aqui tens una pagina de interes :IP2Locattion: https://blog.ip2location.com/knowledge-base/how-to-add-a-sub-account-in-ip2location/.</span>.</span>"
   ]
  },
  {
   "cell_type": "markdown",
   "metadata": {},
   "source": [
    " ### <span style=color:green><ins> To install Geoip  </ins></span>\n",
    "https://pythonhosted.org/python-geoip/         \n",
    "https://stackoverflow.com/questions/54940411/typeerror-a-bytes-like-object-is-required-not-str-in-geolite2-function-in-py   \n",
    "https://pypi.org/project/python-geoip-python3/   \n",
    "https://pypi.org/project/maxminddb-geolite2/               \n",
    "https://dev.maxmind.com/geoip/geoip2/geolite2/ "
   ]
  },
  {
   "cell_type": "code",
   "execution_count": null,
   "metadata": {},
   "outputs": [],
   "source": [
    "import geoip\n",
    "from geoip import geolite2\n",
    "#from geoip import open_database\n",
    "#https://stackoverflow.com/questions/54940411/typeerror-a-bytes-like-object-is-required-not-str-in-geolite2-function-in-py\n",
    "geolite2.lookup('66.249.76.216')"
   ]
  },
  {
   "cell_type": "code",
   "execution_count": null,
   "metadata": {},
   "outputs": [],
   "source": [
    "# https://stackoverflow.com/questions/40211314/pandas-fastest-way-to-resolve-ip-to-country\n",
    "from geolite2 import geolite2\n",
    "def get_country(ip):\n",
    "    try:\n",
    "        x = geo.get(ip)\n",
    "    except ValueError:\n",
    "        return pd.np.nan\n",
    "    try:\n",
    "        return x['country']['names']['en'] if x else pd.np.nan\n",
    "    except KeyError:\n",
    "        return pd.np.nan\n",
    "\n",
    "geo = geolite2.reader()\n",
    "\n",
    "unique_ips = WebLogAkN['Ip'].unique()\n",
    "unique_ips = pd.Series(unique_ips, index = unique_ips)\n",
    "WebLogAkN['country'] = WebLogAkN['Ip'].map(unique_ips.apply(get_country))\n",
    "\n",
    "geolite2.close()"
   ]
  },
  {
   "cell_type": "code",
   "execution_count": null,
   "metadata": {},
   "outputs": [],
   "source": [
    "WebLogAkN.loc[[21,100,500], :]"
   ]
  },
  {
   "cell_type": "markdown",
   "metadata": {},
   "source": [
    " ### <span style=color:green><ins> Groupby and plot IP on a world map  </ins></span>"
   ]
  },
  {
   "cell_type": "code",
   "execution_count": null,
   "metadata": {},
   "outputs": [],
   "source": [
    "WebLogAkN['country'].unique()"
   ]
  },
  {
   "cell_type": "code",
   "execution_count": null,
   "metadata": {},
   "outputs": [],
   "source": [
    "Country_Count = WebLogAkN['country'].value_counts()\n",
    "Country_Count.head()"
   ]
  },
  {
   "cell_type": "code",
   "execution_count": null,
   "metadata": {},
   "outputs": [],
   "source": [
    "plt.subplot(1, 3, 1)\n",
    "Country_Count.iloc[0:17].plot.bar(figsize=(15, 4))\n",
    "plt.yscale(\"log\")\n",
    "plt.ylabel(\"Qtity\")\n",
    "plt.subplot(1, 3, 2)\n",
    "Country_Count.iloc[17:34].plot.bar(figsize=(15, 4))\n",
    "plt.subplot(1, 3, 3)\n",
    "plt.xlabel(\"Country\")\n",
    "Country_Count.iloc[34:50].plot.bar(figsize=(15, 4))\n",
    "plt.suptitle(\"TOTAL REQUESTS / COUNTRY\")"
   ]
  },
  {
   "cell_type": "markdown",
   "metadata": {},
   "source": [
    "# <span style=color:darkblue>INFO ADICIONAL </span>"
   ]
  },
  {
   "cell_type": "markdown",
   "metadata": {},
   "source": [
    "# <span style=color:blue><ins> TO GET ALL COLUMNS AT ONCE FOM LOG 'TXT' WITH ONE REGEX </ins></span>"
   ]
  },
  {
   "cell_type": "markdown",
   "metadata": {},
   "source": [
    "# Original code in\n",
    "#https://mmas.github.io/read-apache-access-log-pandas     \n",
    "\n",
    "\\s                           # Match space \n",
    "\n",
    "(?=(?:[^\"]*\"[^\"]*\")*[^\"]*$)  # Not surrounded by \".    \n",
    "\n",
    "(?![^\\[]*\\])                 # Not surrounded by [].   \n",
    "\n",
    "\\s(?=(?:[^\"]*\"[^\"]*\")*[^\"]*$)(?![^\\[]*\\])"
   ]
  },
  {
   "cell_type": "code",
   "execution_count": null,
   "metadata": {},
   "outputs": [],
   "source": [
    "import datetime\n",
    "import pytz\n",
    "import pandas as pd\n",
    "import numpy as np\n",
    "from datetime import datetime\n",
    "import pytz\n",
    "import re\n"
   ]
  },
  {
   "cell_type": "code",
   "execution_count": null,
   "metadata": {},
   "outputs": [],
   "source": [
    "def parse_str(x):\n",
    "    return x[1:-1]\n",
    "    \"\"\"\n",
    "    Returns the string delimited by two characters.\n",
    "\n",
    "    Example:\n",
    "        >>> parse_str('[my string]')\n",
    "        'my string'\n",
    "    \"\"\"\n",
    "    #return x[1:-1]\n",
    "\n",
    "#def parse_datetime(x):\n",
    "    '''\n",
    "    Parses datetime with timezone formatted as:\n",
    "        [day/month/year:hour:minute:second zone]\n",
    "\n",
    "    Example:\n",
    "        >>> parse_datetime('13/Nov/2015:11:45:42 +0000')\n",
    "        datetime.datetime(2015, 11, 3, 11, 45, 4, tzinfo=<UTC>)\n",
    "\n",
    "    Due to problems parsing the timezone (%z) with datetime.strptime, the\n",
    "    timezone will be obtained using the pytz library.\n",
    "    '''\n",
    "def parse_datetime(x):\n",
    "    dt = datetime.strptime(x[1:-7], '%d/%b/%Y:%H:%M:%S')\n",
    "    dt_tz = int(x[-6:-3])*60+int(x[-3:-1])\n",
    "    return dt.replace(tzinfo=pytz.FixedOffset(dt_tz))\n",
    "\n",
    "\n",
    "data = pd.read_csv(\n",
    "    'Web_access_log-akumenius.com.txt',\n",
    "    sep=r'\\s(?=(?:[^\"]*\"[^\"]*\")*[^\"]*$)(?![^\\[]*\\])',\n",
    "    engine='python',\n",
    "    na_values='-',\n",
    "    header=None,\n",
    "    usecols=[1, 4, 5, 6, 7, 8, 9],\n",
    "    names=['ip', 'date', 'request', 'status', 'size', 'referer', 'user_agent'],\n",
    "    converters={'date': parse_datetime,\n",
    "               'request': parse_str,\n",
    "               'status': int,\n",
    "               'size': int,\n",
    "               'referer': parse_str})\n",
    "data.head()"
   ]
  },
  {
   "cell_type": "markdown",
   "metadata": {},
   "source": [
    "# <span style=color:blue><ins> MULTIPLE EXTRACT TO GET COLUMNS </ins></span>"
   ]
  },
  {
   "cell_type": "code",
   "execution_count": null,
   "metadata": {},
   "outputs": [],
   "source": [
    "#pd.read_csv('Web_access_log-akumenius.com.txt', sep='delimiter', header=None, engine='python')\n",
    "\n",
    "WebLogAk = pd.read_csv('Web_access_log-akumenius.com.txt', header=None, sep='\\t', encoding='utf-8')\n",
    "WebLogAk.head()"
   ]
  },
  {
   "cell_type": "markdown",
   "metadata": {},
   "source": [
    "### <span style=color:blue><ins> TO EXTRACT 'IP' </ins></span>\n",
    "EXTRACT / EXTRACTALL"
   ]
  },
  {
   "cell_type": "code",
   "execution_count": null,
   "metadata": {},
   "outputs": [],
   "source": [
    "WebLogAk['IP'] = WebLogAk[0].str.extract(pat = '(\\d+.\\d+.\\d+.\\d+)')\n",
    "WebLogAk.head(1)"
   ]
  },
  {
   "cell_type": "markdown",
   "metadata": {},
   "source": [
    "### <span style=color:blue><ins> TO EXTRACT 'DATE_TIME'  </ins></span>"
   ]
  },
  {
   "cell_type": "code",
   "execution_count": null,
   "metadata": {},
   "outputs": [],
   "source": [
    "WebLogAk['Date_Time'] = WebLogAk[0].str.extract(pat = '(\\[[^z]*\\])')\n",
    "WebLogAk.head(1)"
   ]
  },
  {
   "cell_type": "markdown",
   "metadata": {},
   "source": [
    "#### <span style=color:blue> Clean corchetes  </ins></span>"
   ]
  },
  {
   "cell_type": "markdown",
   "metadata": {},
   "source": [
    "### <span style=color:blue><ins> TO EXTRACT 'REQUEST' </ins></span>"
   ]
  },
  {
   "cell_type": "code",
   "execution_count": null,
   "metadata": {},
   "outputs": [],
   "source": [
    "# String entre']' y 'HTTP/1.'\n",
    "WebLogAk['Request'] = WebLogAk[0].str.extract(pat = '(\\][^z]*HTTP/1..)')\n",
    "#WebLogAk[150:152]\n",
    "WebLogAk.head(1)\n",
    "# Using iloc, loc, & ix to select rows and columns.........https://www.shanelynn.ie/select-pandas-dataframe-rows-and-columns-using-iloc-loc-and-ix/"
   ]
  },
  {
   "cell_type": "code",
   "execution_count": null,
   "metadata": {},
   "outputs": [],
   "source": [
    "WebLogAk['Request'].values[12] "
   ]
  },
  {
   "cell_type": "code",
   "execution_count": null,
   "metadata": {},
   "outputs": [],
   "source": [
    "WebLogAk['Request'].values[150]"
   ]
  },
  {
   "cell_type": "markdown",
   "metadata": {},
   "source": [
    "#### <span style=color:blue> Clean corchetes  </ins></span>"
   ]
  },
  {
   "cell_type": "markdown",
   "metadata": {},
   "source": [
    "### <span style=color:blue><ins> TO EXTRACT 'STATUS & SIZE' </ins></span>"
   ]
  },
  {
   "cell_type": "markdown",
   "metadata": {},
   "source": [
    "#### <span style=color:blue> Clean corchetes  </ins></span>"
   ]
  },
  {
   "cell_type": "markdown",
   "metadata": {},
   "source": [
    "Regex to confirm -> entre HTTP/1.. and \"-\""
   ]
  },
  {
   "cell_type": "code",
   "execution_count": null,
   "metadata": {},
   "outputs": [],
   "source": [
    "WebLogAk['Status & Size'] = WebLogAk[0].str.extract(pat = '(HTTP/1[^z]*\"-\")')\n",
    "#WebLogAk[150:152]\n",
    "WebLogAk.head(1)"
   ]
  }
 ],
 "metadata": {
  "kernelspec": {
   "display_name": "Python 3",
   "language": "python",
   "name": "python3"
  },
  "language_info": {
   "codemirror_mode": {
    "name": "ipython",
    "version": 3
   },
   "file_extension": ".py",
   "mimetype": "text/x-python",
   "name": "python",
   "nbconvert_exporter": "python",
   "pygments_lexer": "ipython3",
   "version": "3.8.5"
  }
 },
 "nbformat": 4,
 "nbformat_minor": 4
}
